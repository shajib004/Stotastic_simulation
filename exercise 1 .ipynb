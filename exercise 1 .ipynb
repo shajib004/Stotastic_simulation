{
 "cells": [
  {
   "cell_type": "markdown",
   "metadata": {},
   "source": [
    "Exercise 1\n",
    "\n",
    "In this exercise you should implement everything including the\n",
    "tests (e.g. the chi-square and KS tests) yourself. Later, when your\n",
    "code is working you are free to use builtin functions.\n",
    "\n",
    "1. Write a program implementing a linear congruential generator\n",
    "(LCG). Be sure that the program works correctly using only\n",
    "integer representation.\n",
    "\n",
    "(a) Generate 10.000 (pseudo-) random numbers and present\n",
    "these numbers in a histogramme (e.g. 10 classes).\n",
    "\n",
    "(b) Evaluate the quality of the generator by graphical\n",
    "descriptive statistics (histogrammes, scatter plots) and\n",
    "statistical tests - χ\n",
    "2\n",
    ",Kolmogorov-Smirnov, run-tests, and\n",
    "correlation test.\n",
    "\n",
    "(c) Repeat (a) and (b) by experimenting with different values\n",
    "of “a”, “b” and “M”. In the end you should have a decent\n",
    "generator. Report at least one bad and your final choice.\n",
    "\n",
    "2. Apply a system available generator and perform the various\n",
    "statistical tests you did under Part 1 point (b) for this\n",
    "generator too.\n",
    "\n",
    "3. You were asked to simulate one sample and perform tests on\n",
    "this sample. Discuss the sufficiency of this approach and take\n",
    "action, if needed."
   ]
  },
  {
   "cell_type": "code",
   "execution_count": 88,
   "metadata": {},
   "outputs": [],
   "source": [
    "import numpy as np\n",
    "import matplotlib.pyplot as plt\n",
    "import math\n",
    "from scipy.stats import chi2\n",
    "import scipy.stats as stats\n",
    "from scipy.stats import norm"
   ]
  },
  {
   "cell_type": "code",
   "execution_count": 89,
   "metadata": {},
   "outputs": [],
   "source": [
    "#![image-2.png](attachment:image-2.png)"
   ]
  },
  {
   "cell_type": "markdown",
   "metadata": {},
   "source": [
    "# Question1"
   ]
  },
  {
   "cell_type": "markdown",
   "metadata": {},
   "source": [
    "# Part a\n",
    "\n",
    "In this part we have been asked to implement a  linear congruential generator (LCG). The way LCGs work is that we begin from a number $ X_0 \\in [0,N]$. And we generate a sequence of numbers which will represent our sample using the expression $x_{i+1} =(a*x_i+c) \\;mod\\; m $"
   ]
  },
  {
   "cell_type": "code",
   "execution_count": 191,
   "metadata": {},
   "outputs": [],
   "source": [
    "def random_num (n,x_0,a,c,m): \n",
    "    random_number = []\n",
    "    for i in range(n):\n",
    "        x_i = (x_0 * a + c)%m\n",
    "        x_0 = x_i\n",
    "        random_number.append(x_i/m)\n",
    "    return random_number"
   ]
  },
  {
   "cell_type": "markdown",
   "metadata": {},
   "source": [
    "## Part b "
   ]
  },
  {
   "cell_type": "markdown",
   "metadata": {},
   "source": [
    "After implementing the LCG we are plotting the results to a histogram and also the dependencies between $U_i$ and $U_{i+1}$ using a scatterplot"
   ]
  },
  {
   "cell_type": "code",
   "execution_count": 91,
   "metadata": {},
   "outputs": [],
   "source": [
    "U = random_num (10000,9,1111,113,2**24)"
   ]
  },
  {
   "cell_type": "code",
   "execution_count": 92,
   "metadata": {
    "scrolled": false
   },
   "outputs": [
    {
     "data": {
      "image/png": "[encoded data removed]",
      "text/plain": [
       "<Figure size 432x288 with 1 Axes>"
      ]
     },
     "metadata": {
      "needs_background": "light"
     },
     "output_type": "display_data"
    }
   ],
   "source": [
    "plt.hist(U, bins=10, rwidth=0.975)\n",
    "plt.show()"
   ]
  },
  {
   "cell_type": "code",
   "execution_count": 93,
   "metadata": {
    "scrolled": true
   },
   "outputs": [
    {
     "data": {
      "image/png": "[encoded data removed]",
      "text/plain": [
       "<Figure size 432x288 with 1 Axes>"
      ]
     },
     "metadata": {
      "needs_background": "light"
     },
     "output_type": "display_data"
    }
   ],
   "source": [
    "plt.scatter(U[:-1], U[1:])\n",
    "plt.show()"
   ]
  },
  {
   "cell_type": "markdown",
   "metadata": {},
   "source": [
    "The histogram even though it is not absolutely uniform it is close enough to the uniform distribution. Also there is not a visible dependency between $U_i$ and $U_{i+1}$. However, more trustworthy are the tests that we we will implement and apply later."
   ]
  },
  {
   "cell_type": "markdown",
   "metadata": {},
   "source": [
    "# chi-square test\n"
   ]
  },
  {
   "cell_type": "markdown",
   "metadata": {},
   "source": [
    "At the $ \\chi ^ 2$ test we are comparing the result of the generated polulations in each class with the expected ones. Specifically we compute the following result:\n",
    "$$\n",
    "T = \\Sigma_{i=1}^{n_{classes}}\\frac{(n_{observed,i}-n_{Expected,i})^2}{n_{Expected,i}} \\sim \\chi ^ 2(n_{classes} -1)\n",
    "$$\n",
    "In our case the number of classes is equal to 10. We will use also the built-in uniform distribution to check our tests. Where the expected values are $10000 * 1/10 $ for each class."
   ]
  },
  {
   "cell_type": "code",
   "execution_count": 130,
   "metadata": {},
   "outputs": [],
   "source": [
    "#X2 test\n",
    "\n",
    "def chisquare(obs, no_class):\n",
    "    Observed, bins = np.histogram(obs, bins= no_class)\n",
    "    expct =  len(obs)/no_class\n",
    "    T = 0\n",
    "    for i in Observed:\n",
    "        xx = ((i-expct)**2)/expct\n",
    "        T+= xx\n",
    "    p = chi2.pdf(T,9)\n",
    "    print('chisquare p-value is:',p)\n",
    "    if(p <= 0.05):\n",
    "        print('The generated random numbers are not uniformly distributed')\n",
    "    else:\n",
    "        print('The null hypothesis was not rejected.')\n",
    "    return p\n"
   ]
  },
  {
   "cell_type": "code",
   "execution_count": 131,
   "metadata": {
    "scrolled": true
   },
   "outputs": [
    {
     "name": "stdout",
     "output_type": "stream",
     "text": [
      "chisquare p-value is: 0.09991585517170648\n",
      "The null hypothesis was not rejected.\n",
      "chisquare p-value is: 0.07294156779389496\n",
      "The null hypothesis was not rejected.\n"
     ]
    },
    {
     "data": {
      "text/plain": [
       "0.07294156779389496"
      ]
     },
     "execution_count": 131,
     "metadata": {},
     "output_type": "execute_result"
    }
   ],
   "source": [
    "chisquare(U, 10)"
   ]
  },
  {
   "cell_type": "markdown",
   "metadata": {},
   "source": [
    "We got a p-value > 0.5 therefore. We have one more reason to expect that our LCG is a good candidate."
   ]
  },
  {
   "cell_type": "markdown",
   "metadata": {},
   "source": [
    "# Kolmogorov-Smirnov"
   ]
  },
  {
   "cell_type": "markdown",
   "metadata": {},
   "source": [
    "In the Kolmogorov Smirnov test we sort the values created and we get the maximum between the sorted value and the sumulative sum divided by the total number of observations. The sum of that score follows the Kolmogorov smirnov distribution."
   ]
  },
  {
   "cell_type": "markdown",
   "metadata": {},
   "source": [
    "we got a score of $25.037327681314157$ while in prder to have level of significance greater than $95%$ we need a score less than $1.358$ therefore we are certain that we do not have a good enough distribution compared to a uniform. "
   ]
  },
  {
   "cell_type": "code",
   "execution_count": 286,
   "metadata": {},
   "outputs": [],
   "source": [
    "def KStest(random_num):\n",
    "    data_sorted = np.sort(random_num)\n",
    "    fo = data_sorted\n",
    "    N = len(random_num)\n",
    "    f = np.cumsum(random_num)\n",
    "    fr = f/f[-1]\n",
    "    D = np.max(np.abs(fo - fr))\n",
    "    ks_calculated_score = (math.sqrt(N) + 0.12 + 0.11/ math.sqrt(N)) * D\n",
    "    print('Kolmogrov-Smirnov score T:', ks_calculated_score)\n",
    "    ks_sig = 1.358 # \n",
    "    if(ks_calculated_score < ks_sig):\n",
    "        print('The null hypothesis was not rejected.')\n",
    "    else:\n",
    "        print('The generated random numbers are not uniformly distributed.')\n",
    "    return ks_calculated_score, fo,fr"
   ]
  },
  {
   "cell_type": "code",
   "execution_count": 217,
   "metadata": {},
   "outputs": [
    {
     "name": "stdout",
     "output_type": "stream",
     "text": [
      "Kolmogrov-Smirnov score T: 25.037327681314157\n",
      "The generated random numbers are not uniformly distributed.\n"
     ]
    },
    {
     "data": {
      "text/plain": [
       "25.037327681314157"
      ]
     },
     "execution_count": 217,
     "metadata": {},
     "output_type": "execute_result"
    }
   ],
   "source": [
    "KStest(U)"
   ]
  },
  {
   "cell_type": "markdown",
   "metadata": {},
   "source": [
    "we got a score of  25.037327681314157 while in prder to have level of significance greater than 95 we need a score less than  1.358 therefore we are certain that we do not have a good enough distribution compared to a uniform. The same result we get while we run it at the normal distribution."
   ]
  },
  {
   "cell_type": "markdown",
   "metadata": {},
   "source": [
    "# Independence Test "
   ]
  },
  {
   "cell_type": "markdown",
   "metadata": {},
   "source": [
    "Another group of tests that we can get in order to check the quality of our generator are the independence run tests. In all run tests we check how long some conditions are met. We call these cosnequtive condition saccesses runs.  "
   ]
  },
  {
   "cell_type": "markdown",
   "metadata": {},
   "source": [
    "## Run-tests I"
   ]
  },
  {
   "cell_type": "markdown",
   "metadata": {},
   "source": [
    "In the first run test how many values are above and how many are bellow the median value. "
   ]
  },
  {
   "cell_type": "code",
   "execution_count": 138,
   "metadata": {},
   "outputs": [],
   "source": [
    "#Independence Test\n",
    "\n",
    "def Run_Test_I(random_num):\n",
    "    N = len(random_num)\n",
    "    med_rand_numbers = np.median(random_num)\n",
    "    run_vec = ['D' if x < med_rand_numbers else 'U' for x in random_num]\n",
    "    \n",
    "    run_number = 0\n",
    "    k = 1\n",
    "    while(k <= len(run_vec)):\n",
    "        j = k\n",
    "        while(j < len(run_vec)):\n",
    "            if(run_vec[j-1] == run_vec[j]):\n",
    "                j = j + 1\n",
    "                if(j == len(run_vec)):\n",
    "                    run_number = run_number + 1\n",
    "            else:\n",
    "                run_number = run_number + 1\n",
    "                break\n",
    "        #end of inner while\n",
    "        k = j + 1\n",
    "        if(k == len(run_vec)):\n",
    "            run_number = run_number + 1\n",
    "    ## end of while\\\n",
    "    n1 = run_vec.count('U')\n",
    "    n2 = run_vec.count('D')\n",
    "    R_hat = (2 *n1 * n2)/ (n1 + n2) + 1\n",
    "    S_R_squ = (2 * n1 * n2) * (2 * n1 * n2 - n1 - n2)/((n1 + n2)**2 * (n1 + n2 - 1))\n",
    "    Z_ts = (run_number - R_hat)/math.sqrt(S_R_squ)\n",
    "    print('Run_Test_I p-value is: ', abs(Z_ts))\n",
    "    ### for alpha = 0.05 Z_st = 1.96\n",
    "    if(abs(Z_ts) < 1.96):\n",
    "        print('Failed to reject Ho')\n",
    "        print('The generated random numbers are possibly independent')\n",
    "    else:\n",
    "        print('Reject H0, and H1 is true')\n",
    "        print('The generated random numbers are not independent')\n",
    "    return Z_ts\n",
    "        "
   ]
  },
  {
   "cell_type": "code",
   "execution_count": 139,
   "metadata": {},
   "outputs": [
    {
     "name": "stdout",
     "output_type": "stream",
     "text": [
      "Run_Test_I p-value is:  0.9600480084015002\n",
      "Failed to reject Ho\n",
      "The generated random numbers are possibly independent\n",
      "Run_Test_I p-value is:  1.0400520091016252\n",
      "Failed to reject Ho\n",
      "The generated random numbers are possibly independent\n"
     ]
    },
    {
     "data": {
      "text/plain": [
       "1.0400520091016252"
      ]
     },
     "execution_count": 139,
     "metadata": {},
     "output_type": "execute_result"
    }
   ],
   "source": [
    "Run_Test_I(U)"
   ]
  },
  {
   "cell_type": "markdown",
   "metadata": {},
   "source": [
    "## Run Test II"
   ]
  },
  {
   "cell_type": "markdown",
   "metadata": {},
   "source": [
    "In run test II or UP/DOWN TEST of Knuth, a run is the consecutive times that a number is smallwer than the next one.  Then we count the the lengths of the runs. We create a vector of the frequences of the lengths between 1 and 5 and the frequency of runs greater or equal that of equal to 6. We store them in vector $\\mathbf{R}$. Then we compute:\n",
    "$$\n",
    "V =  \\frac{1}{N - 6}  (\\mathbf{R} - N  \\mathbf{B})^{T}  A  (\\mathbf{R} - N  \\mathbf{B}) \\sim \\chi^2(6)\n",
    "$$\n",
    "\n",
    "where $A$ and $\\mathbf{B}$ are specific to the test. "
   ]
  },
  {
   "cell_type": "code",
   "execution_count": 140,
   "metadata": {},
   "outputs": [],
   "source": [
    "def compute_run_lengths(s):\n",
    "    length = 1\n",
    "    lengths = np.empty( 0 , dtype = 'int' )\n",
    "    for i in range(len(s)-1):\n",
    "        if (s[i]>s[i+1]):\n",
    "            lengths= np.append(lengths,length)\n",
    "            length=1\n",
    "        else:\n",
    "            length+=1\n",
    "    lengths= np.append(lengths,length)\n",
    "    lengths[lengths > 6] = 6\n",
    "    unique, counts = np.unique(lengths, return_counts=True)\n",
    "    return unique, counts\n"
   ]
  },
  {
   "cell_type": "code",
   "execution_count": null,
   "metadata": {},
   "outputs": [],
   "source": []
  },
  {
   "cell_type": "code",
   "execution_count": 290,
   "metadata": {},
   "outputs": [],
   "source": [
    "def Run_Test_II(sample):\n",
    "    N = len(sample)\n",
    "    unique , counts = compute_run_lengths(sample)\n",
    "    R = np.zeros(6)\n",
    "    for i in range(len(unique)):\n",
    "        R[unique[i]-1]=counts[i]\n",
    "\n",
    "    A = np.array([[4529.4, 9044.9, 13568, 18091, 22615, 27892],\n",
    "              [9044.9, 18097, 27139, 36187, 45234, 55789],\n",
    "              [13568, 27139, 40721, 54281, 67852, 83685],\n",
    "              [18091, 36187, 54281, 72414, 90470, 111580],\n",
    "              [22615, 45234, 67852, 90470, 113262, 139476],\n",
    "              [27892, 55789, 83685, 111580, 139476, 172860]])\n",
    "\n",
    "    B = np.array([1/6, 5/24, 11/120, 19/720, 29/5040, 1/840]).T\n",
    "\n",
    "\n",
    "    V = (1 / (N - 6)) * (R - N * B) @ A @ (R - N * B).T  \n",
    "    p_RT2 =1- chi2.cdf(V, 6)  # Using the upper tail of the chi-square distribution\n",
    "    \n",
    "    print('Run_Test_II p-value is: ', abs(p_RT2))\n",
    "    ### for alpha = 0.05 Z_st = 1.96\n",
    "    if(abs(p_RT2) < 1.96):\n",
    "        print('Failed to reject Ho')\n",
    "        print('The generated random numbers are independent')\n",
    "    else:\n",
    "        print('Reject H0, and H1 is true')\n",
    "        print('The generated random numbers are not independent')\n",
    "    return p_RT2\n",
    "        "
   ]
  },
  {
   "cell_type": "code",
   "execution_count": 180,
   "metadata": {},
   "outputs": [
    {
     "name": "stdout",
     "output_type": "stream",
     "text": [
      "[1 2 3 4 5 6] [1616 2124  903  275   52   11]\n",
      "Run_Test_II p-value is:  0.6125883232970937\n",
      "Failed to reject Ho\n",
      "The generated random numbers are independent\n",
      "[1 2 3 4 5 6] [1619 2044  954  267   54   15]\n",
      "Run_Test_II p-value is:  0.5314355419158998\n",
      "Failed to reject Ho\n",
      "The generated random numbers are independent\n"
     ]
    },
    {
     "data": {
      "text/plain": [
       "0.5314355419158998"
      ]
     },
     "execution_count": 180,
     "metadata": {},
     "output_type": "execute_result"
    }
   ],
   "source": [
    "Run_Test_II(U)"
   ]
  },
  {
   "cell_type": "markdown",
   "metadata": {},
   "source": [
    "# Correlation test"
   ]
  },
  {
   "cell_type": "code",
   "execution_count": 273,
   "metadata": {},
   "outputs": [],
   "source": [
    "def correlation_test(U, h):\n",
    "    U = np.array(U)\n",
    "    n = len(U)\n",
    "    score = np.mean(U[h:]*U[:-h])\n",
    "    #score = sum([U[i]*U[i+h] for i in range(n-h)])/(n-h)\n",
    "    print (score)\n",
    "    print (norm.cdf(score, loc=0.25, scale=(7/(144*n)**(1/2))))\n",
    "    print('Correlation test p-value',2 * (1 - norm.cdf(abs(score), loc=0.25, scale=(7/(144*n)**(1/2)))))\n",
    "    return 2 * (1- norm.cdf(score, loc=0.25, scale=(7/(144*n)**(1/2))))"
   ]
  },
  {
   "cell_type": "markdown",
   "metadata": {},
   "source": [
    "## Creating a distrution and runnung all tests"
   ]
  },
  {
   "cell_type": "code",
   "execution_count": 291,
   "metadata": {},
   "outputs": [
    {
     "name": "stdout",
     "output_type": "stream",
     "text": [
      "chisquare p-value is: 0.09991585517170648\n",
      "The null hypothesis was not rejected.\n",
      "Kolmogrov-Smirnov score T: 1.03111803301381\n",
      "The null hypothesis was not rejected.\n",
      "Run_Test_I p-value is:  0.9600480084015002\n",
      "Failed to reject Ho\n",
      "The generated random numbers are possibly independent\n",
      "Run_Test_II p-value is:  0.6125883232970937\n",
      "Failed to reject Ho\n",
      "The generated random numbers are independent\n",
      "0.2537234369020558\n",
      "0.7383619228388225\n",
      "Correlation test p-value 0.523276154322355\n"
     ]
    },
    {
     "data": {
      "text/plain": [
       "0.523276154322355"
      ]
     },
     "execution_count": 291,
     "metadata": {},
     "output_type": "execute_result"
    }
   ],
   "source": [
    "U = random_num (10000,9,1111,113,2**24)\n",
    "chisquare(U, 10)\n",
    "KStest(U)\n",
    "Run_Test_I(U)\n",
    "Run_Test_II(U)\n",
    "correlation_test(U,2)"
   ]
  },
  {
   "cell_type": "markdown",
   "metadata": {},
   "source": [
    "th"
   ]
  },
  {
   "cell_type": "markdown",
   "metadata": {},
   "source": [
    "# Our comments:"
   ]
  },
  {
   "cell_type": "markdown",
   "metadata": {},
   "source": [
    "in order to accept the correlation test we need a p-value less than 0.5 but we got a p-value of 0.09 so our distribution is not good enough\n",
    "\n",
    "A correlation test value of 0.2539096878552963 and 0.24547906601348443 indicates a weak positive correlation . Furthermore, it appears that as the value of \"h\" increases, the correlation becomes weaker.\n",
    "\n",
    "This pattern suggests that there may be a positive relationship, but it is not very strong. As \"h\" increases, the strength of the correlation diminishes, indicating that the it may be less closely related at higher values of \"h\""
   ]
  },
  {
   "cell_type": "markdown",
   "metadata": {},
   "source": [
    "# 1c) example of a bad distribution"
   ]
  },
  {
   "cell_type": "code",
   "execution_count": 293,
   "metadata": {},
   "outputs": [],
   "source": [
    "U = random_num (10000,3,6,3,100)"
   ]
  },
  {
   "cell_type": "markdown",
   "metadata": {},
   "source": [
    "### Plotting Histogram"
   ]
  },
  {
   "cell_type": "code",
   "execution_count": 251,
   "metadata": {},
   "outputs": [
    {
     "data": {
      "image/png": "[encoded data removed]",
      "text/plain": [
       "<Figure size 432x288 with 1 Axes>"
      ]
     },
     "metadata": {
      "needs_background": "light"
     },
     "output_type": "display_data"
    }
   ],
   "source": [
    "plt.hist(U, bins=10, rwidth=0.975)\n",
    "plt.show()"
   ]
  },
  {
   "cell_type": "code",
   "execution_count": 249,
   "metadata": {
    "scrolled": true
   },
   "outputs": [
    {
     "data": {
      "image/png": "[encoded data removed]",
      "text/plain": [
       "<Figure size 432x288 with 1 Axes>"
      ]
     },
     "metadata": {
      "needs_background": "light"
     },
     "output_type": "display_data"
    }
   ],
   "source": [
    "plt.scatter(U[:-1], U[1:])\n",
    "plt.show()"
   ]
  },
  {
   "cell_type": "code",
   "execution_count": 294,
   "metadata": {},
   "outputs": [
    {
     "name": "stdout",
     "output_type": "stream",
     "text": [
      "chisquare p-value is: 6.730298955775708e-81\n",
      "The generated random numbers are not uniformly distributed\n",
      "Kolmogrov-Smirnov score T: 3.0036330000000024\n",
      "The generated random numbers are not uniformly distributed.\n",
      "Run_Test_I p-value is:  3.8663798603020916\n",
      "Reject H0, and H1 is true\n",
      "The generated random numbers are not independent\n",
      "Run_Test_II p-value is:  0.0\n",
      "Failed to reject Ho\n",
      "The generated random numbers are independent\n",
      "0.24012740548109626\n",
      "0.04528060069157785\n",
      "Correlation test p-value 1.9094387986168444\n"
     ]
    },
    {
     "data": {
      "text/plain": [
       "1.9094387986168444"
      ]
     },
     "execution_count": 294,
     "metadata": {},
     "output_type": "execute_result"
    }
   ],
   "source": [
    "chisquare(U, 10)\n",
    "KStest(U)\n",
    "Run_Test_I(U)\n",
    "Run_Test_II(U)\n",
    "correlation_test(U,2)"
   ]
  },
  {
   "cell_type": "markdown",
   "metadata": {},
   "source": [
    "It is visible from the histogram that the distribution is not uniform. Also, at the scatterplot it is clear that we do not have independent samples. The $\\chi^2$ test has a p value lower than 0.05 so it is not a normal distribution.The komlogorov test gets similar result with the other values. That means that possibly it is poorly implemented. Scores at both Run Tests are extremely big compared to the built in numpy version and the better version which should be expected."
   ]
  },
  {
   "cell_type": "markdown",
   "metadata": {},
   "source": [
    "## Part 2 "
   ]
  },
  {
   "cell_type": "markdown",
   "metadata": {},
   "source": [
    "In this section we will run our implemented tests in a sample created from the built in uniform distribution of numpy."
   ]
  },
  {
   "cell_type": "code",
   "execution_count": 287,
   "metadata": {},
   "outputs": [],
   "source": [
    "U = np.random.uniform(0,1,10000)\n"
   ]
  },
  {
   "cell_type": "code",
   "execution_count": 292,
   "metadata": {
    "scrolled": true
   },
   "outputs": [
    {
     "name": "stdout",
     "output_type": "stream",
     "text": [
      "chisquare p-value is: 0.09991585517170648\n",
      "The null hypothesis was not rejected.\n",
      "Kolmogrov-Smirnov score T: 1.03111803301381\n",
      "The null hypothesis was not rejected.\n",
      "Run_Test_I p-value is:  0.9600480084015002\n",
      "Failed to reject Ho\n",
      "The generated random numbers are possibly independent\n",
      "Run_Test_II p-value is:  0.6125883232970937\n",
      "Failed to reject Ho\n",
      "The generated random numbers are independent\n",
      "0.2537234369020558\n",
      "0.7383619228388225\n",
      "Correlation test p-value 0.523276154322355\n"
     ]
    },
    {
     "data": {
      "text/plain": [
       "0.523276154322355"
      ]
     },
     "execution_count": 292,
     "metadata": {},
     "output_type": "execute_result"
    }
   ],
   "source": [
    "chisquare(U, 10)\n",
    "x ,fo,fr = KStest(U)\n",
    "Run_Test_I(U)\n",
    "Run_Test_II(U)\n",
    "correlation_test(U,2)"
   ]
  },
  {
   "cell_type": "code",
   "execution_count": 289,
   "metadata": {},
   "outputs": [
    {
     "data": {
      "image/png": "[encoded data removed]",
      "text/plain": [
       "<Figure size 432x288 with 1 Axes>"
      ]
     },
     "metadata": {
      "needs_background": "light"
     },
     "output_type": "display_data"
    }
   ],
   "source": [
    "plt.plot(fo)\n",
    "plt.plot(fr)\n",
    "plt.show()"
   ]
  },
  {
   "cell_type": "markdown",
   "metadata": {},
   "source": [
    "While we are using the numpy uniform distribution we get similarn results to the test to the $U = random\\_num (10000,9,1111,113,2**24)$ case. However, the correlation test does not seem to work properly."
   ]
  },
  {
   "cell_type": "code",
   "execution_count": null,
   "metadata": {},
   "outputs": [],
   "source": []
  }
 ],
 "metadata": {
  "kernelspec": {
   "display_name": "Python 3",
   "language": "python",
   "name": "python3"
  },
  "language_info": {
   "codemirror_mode": {
    "name": "ipython",
    "version": 3
   },
   "file_extension": ".py",
   "mimetype": "text/x-python",
   "name": "python",
   "nbconvert_exporter": "python",
   "pygments_lexer": "ipython3",
   "version": "3.8.5"
  }
 },
 "nbformat": 4,
 "nbformat_minor": 5
}
