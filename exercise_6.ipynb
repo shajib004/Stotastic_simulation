{
 "cells": [
  {
   "cell_type": "markdown",
   "metadata": {},
   "source": [
    "### Exercise 6"
   ]
  },
  {
   "cell_type": "code",
   "execution_count": 34,
   "metadata": {},
   "outputs": [],
   "source": [
    "import numpy as np\n",
    "from math import floor,factorial\n",
    "from scipy import stats"
   ]
  },
  {
   "cell_type": "code",
   "execution_count": 12,
   "metadata": {},
   "outputs": [
    {
     "data": {
      "text/plain": [
       "5"
      ]
     },
     "execution_count": 12,
     "metadata": {},
     "output_type": "execute_result"
    }
   ],
   "source": [
    "floor(5.1)"
   ]
  },
  {
   "cell_type": "code",
   "execution_count": 13,
   "metadata": {},
   "outputs": [],
   "source": [
    "m=10\n",
    "lambd = 1\n",
    "s=8\n",
    "A= lambd*s"
   ]
  },
  {
   "cell_type": "code",
   "execution_count": null,
   "metadata": {},
   "outputs": [],
   "source": [
    "def "
   ]
  },
  {
   "cell_type": "code",
   "execution_count": 14,
   "metadata": {},
   "outputs": [],
   "source": [
    "def g(i):\n",
    "    if (i > m): return 0\n",
    "    if (i < 0): return 0\n",
    "    return (A**i)/factorial(i)"
   ]
  },
  {
   "cell_type": "code",
   "execution_count": 125,
   "metadata": {},
   "outputs": [],
   "source": [
    "def sample_MCMC(sample_size):\n",
    "    Xi=0\n",
    "    sample = np.empty( 0 , dtype = 'float64' )\n",
    "    sample = np.append( sample , Xi )\n",
    "    for i in range(sample_size-1):\n",
    "        Dxi= floor(3* np.random.normal(0,1,1)[0])\n",
    "        Yi = Xi + Dxi\n",
    "        acceptance = 'reject'\n",
    "        if (g(Yi)>=g(Xi)):\n",
    "            sample = np.append( sample , Yi )\n",
    "            Xi=Yi\n",
    "            continue\n",
    "        if (np.random.uniform(0,1,1)[0]<=(g(Yi)/g(Xi))):\n",
    "            sample = np.append( sample , Yi )\n",
    "            Xi=Yi\n",
    "            continue\n",
    "        sample = np.append( sample , Xi )\n",
    "    return sample\n",
    "            \n",
    "            "
   ]
  },
  {
   "cell_type": "code",
   "execution_count": null,
   "metadata": {},
   "outputs": [],
   "source": []
  },
  {
   "cell_type": "code",
   "execution_count": 126,
   "metadata": {},
   "outputs": [
    {
     "data": {
      "text/plain": [
       "0.8931724516949544"
      ]
     },
     "execution_count": 126,
     "metadata": {},
     "output_type": "execute_result"
    }
   ],
   "source": [
    "P = [g(i) for i in range(m)]\n",
    "denominator = sum(P)\n",
    "P = [i/denominator for i in (P) ]\n",
    "X = sample_MCMC(10000)\n",
    "sim_sum = sum(X)\n",
    "Observ, bins = np.histogram(X, bins= m)\n",
    "Observed = [i/sim_sum for i in Observ]\n",
    "Expected = P\n",
    "least_squares = [(Obs-Exp)**2/Exp for Obs, Exp in list(zip(Expected,Observed))]\n",
    "chi_sqare_calculated_value = sum(least_squares)\n",
    "p_value = stats.chi2.sf(chi_sqare_calculated_value, m)\n",
    "p_value"
   ]
  },
  {
   "cell_type": "code",
   "execution_count": 101,
   "metadata": {},
   "outputs": [],
   "source": [
    "def chisquare(obs, no_class):\n",
    "    Observed, bins = np.histogram(obs, bins= no_class)\n",
    "    expct =  len(obs)/no_class\n",
    "    T = 0\n",
    "    for i in Observed:\n",
    "        xx = ((i-expct)**2)/expct\n",
    "        T+= xx\n",
    "    p = chi2.pdf(T,9)\n",
    "    print('p-value is:',p)\n",
    "    if(p <= 0.05):\n",
    "        print('The generated random numbers are not uniformly distributed')\n",
    "    else:\n",
    "        print('The generated random numbers are uniformly distributed')"
   ]
  },
  {
   "cell_type": "code",
   "execution_count": 116,
   "metadata": {},
   "outputs": [],
   "source": [
    "def sample_MCMC(sample_size):\n",
    "    Xi=0\n",
    "    sample = np.empty( 0 , dtype = 'float64' )\n",
    "    sample = np.append( sample , Xi )\n",
    "    for i in range(sample_size-1):\n",
    "        Dxi= floor(10 * np.random.uniform(-1,1,1)[0])\n",
    "        Yi = Xi + Dxi\n",
    "        acceptance = 'reject'\n",
    "        if (g(Yi)>=g(Xi)):\n",
    "            sample = np.append( sample , Yi )\n",
    "            Xi=Yi\n",
    "            continue\n",
    "        if (np.random.uniform(0,1,1)[0]<=(g(Yi)/g(Xi))):\n",
    "            sample = np.append( sample , Yi )\n",
    "            Xi=Yi\n",
    "            continue\n",
    "        sample = np.append( sample , Xi )\n",
    "    return sample"
   ]
  },
  {
   "cell_type": "code",
   "execution_count": 117,
   "metadata": {},
   "outputs": [
    {
     "name": "stdout",
     "output_type": "stream",
     "text": [
      "[1.0, 8.0, 32.0, 85.33333333333333, 170.66666666666666, 273.06666666666666, 364.0888888888889, 416.1015873015873, 416.1015873015873, 369.86807760141096]\n",
      "[   2   16  140  318  622 1131 1506 1768 1793 2704]\n"
     ]
    },
    {
     "data": {
      "text/plain": [
       "0.8486249611100332"
      ]
     },
     "execution_count": 117,
     "metadata": {},
     "output_type": "execute_result"
    }
   ],
   "source": [
    "P = [g(i) for i in range(m)]\n",
    "denominator = sum(P)\n",
    "P = [i/denominator for i in (P) ]\n",
    "X = sample_MCMC(10000)\n",
    "sim_sum = sum(X)\n",
    "Observ, bins = np.histogram(X, bins= m)\n",
    "Observed = [i/sim_sum for i in Observ]\n",
    "Expected = P\n",
    "least_squares = [(Obs-Exp)**2/Exp for Obs, Exp in list(zip(Expected,Observed))]\n",
    "chi_sqare_calculated_value = sum(least_squares)\n",
    "p_value = stats.chi2.sf(chi_sqare_calculated_value, m)\n",
    "p_value"
   ]
  },
  {
   "cell_type": "markdown",
   "metadata": {},
   "source": [
    "## Part 2"
   ]
  },
  {
   "cell_type": "markdown",
   "metadata": {},
   "source": [
    "### a "
   ]
  },
  {
   "cell_type": "code",
   "execution_count": 236,
   "metadata": {},
   "outputs": [],
   "source": [
    "def g_2d(x):\n",
    "    i,j = x\n",
    "    if (i >= m): return 0\n",
    "    if (j >= m): return 0\n",
    "    if (i+j > m): return 0\n",
    "    if (i < 0): return 0\n",
    "    if (j < 0): return 0\n",
    "    if (i+j < 0): return 0\n",
    "    return ((A**i)/factorial(i))*((A**j)/factorial(j))"
   ]
  },
  {
   "cell_type": "code",
   "execution_count": 259,
   "metadata": {},
   "outputs": [
    {
     "data": {
      "text/plain": [
       "-2"
      ]
     },
     "execution_count": 259,
     "metadata": {},
     "output_type": "execute_result"
    }
   ],
   "source": [
    "floor(-1.01)"
   ]
  },
  {
   "cell_type": "code",
   "execution_count": 237,
   "metadata": {},
   "outputs": [],
   "source": [
    "def sample_MCMC_2d(sample_size):\n",
    "    Xi=(0,0)\n",
    "    sample = []\n",
    "    sample.append( Xi )\n",
    "    for i in range(sample_size-1):\n",
    "        #print('sample=',sample)\n",
    "        Dxi_1= floor(3* np.random.normal(0,1,1)[0])\n",
    "        Dxi_2= floor(3* np.random.normal(0,1,1)[0])\n",
    "        Yi = (Xi[1] + Dxi_1,Xi[1]+Dxi_2)\n",
    "        acceptance = 'reject'\n",
    "        #print('Xi=',Xi)\n",
    "        #print('Yi=',Yi)\n",
    "        #print('g(Xi)=',g(Xi))\n",
    "        #print('g(Yi)=',g(Yi))\n",
    "        #input()\n",
    "        if (g_2d(Yi)>=g_2d(Xi)):\n",
    "            sample.append( Yi )\n",
    "            Xi=Yi\n",
    "            continue\n",
    "        if (np.random.uniform(0,1,1)[0]<=(g_2d(Yi)/g_2d(Xi))):\n",
    "            sample.append(  Yi )\n",
    "            Xi=Yi\n",
    "            continue\n",
    "        sample.append(  Xi )\n",
    "    return sample"
   ]
  },
  {
   "cell_type": "code",
   "execution_count": 238,
   "metadata": {},
   "outputs": [],
   "source": [
    "probs = np.zeros((m, m), dtype='float64')\n"
   ]
  },
  {
   "cell_type": "code",
   "execution_count": 239,
   "metadata": {},
   "outputs": [],
   "source": [
    "for i in range(m):\n",
    "    for j in range(i,m):\n",
    "        probs[i,j] = g_2d((i,j))"
   ]
  },
  {
   "cell_type": "code",
   "execution_count": null,
   "metadata": {
    "scrolled": true
   },
   "outputs": [],
   "source": []
  },
  {
   "cell_type": "code",
   "execution_count": 240,
   "metadata": {
    "scrolled": true
   },
   "outputs": [],
   "source": [
    "P = probs\n",
    "denominator = sum(P)\n",
    "P = P/denominator"
   ]
  },
  {
   "cell_type": "code",
   "execution_count": 247,
   "metadata": {},
   "outputs": [
    {
     "name": "stdout",
     "output_type": "stream",
     "text": [
      "4.62121197294037\n"
     ]
    },
    {
     "data": {
      "text/plain": [
       "0.9150045623977796"
      ]
     },
     "execution_count": 247,
     "metadata": {},
     "output_type": "execute_result"
    }
   ],
   "source": [
    "counts =  np.zeros((m, m), dtype='float64')\n",
    "X = sample_MCMC_2d(10000)\n",
    "\n",
    "for element in X:\n",
    "    #print(element)\n",
    "    i,j = element\n",
    "    counts[i,j] += 1\n",
    "sim_sum = sum(counts)\n",
    "Observed = counts/sim_sum\n",
    "Expected = P\n",
    "least_squares = np.zeros((m, m), dtype='float64')\n",
    "for i in range(m):\n",
    "    for j in range(i,m):\n",
    "        if (Expected[i,j] == 0.0): \n",
    "            least_squares[i,j]=0\n",
    "            continue\n",
    "        least_squares[i,j] = (Observed[i,j]-Expected[i,j])**2/Expected[i,j]\n",
    "chi_sqare_calculated_value = sum(sum(least_squares))\n",
    "p_value = stats.chi2.sf(chi_sqare_calculated_value, m)\n",
    "p_value"
   ]
  },
  {
   "cell_type": "code",
   "execution_count": 257,
   "metadata": {},
   "outputs": [],
   "source": [
    "def sample_MCMC_2d_dwise(sample_size):\n",
    "    Xi=(0,0)\n",
    "    sample = []\n",
    "    sample.append( Xi )\n",
    "    for i in range(sample_size-1):\n",
    "        #print('sample=',sample)\n",
    "        Dxi_1= floor(3* np.random.normal(0,1,1)[0])\n",
    "        Dxi_2= floor(3* np.random.normal(0,1,1)[0])\n",
    "        Yi_1d = (Xi[1] + Dxi_1,Xi[1])\n",
    "        #print('Xi=',Xi)\n",
    "        #print('Yi=',Yi)\n",
    "        #print('g(Xi)=',g(Xi))\n",
    "        #print('g(Yi)=',g(Yi))\n",
    "        #input()\n",
    "        if (g_2d(Yi_1d)>=g_2d(Xi)):\n",
    "            Xi=Yi_1d\n",
    "         \n",
    "        elif (np.random.uniform(0,1,1)[0]<=(g_2d(Yi_1d)/g_2d(Xi))):\n",
    "            Xi=Yi_1d\n",
    "        Yi_2d = (Xi[1],Xi[1] + Dxi_2)\n",
    "        \n",
    "        \n",
    "        if (g_2d(Yi_2d)>=g_2d(Xi)):\n",
    "            sample.append(Yi_2d )\n",
    "            Xi=Yi_2d\n",
    "            continue\n",
    "        if (np.random.uniform(0,1,1)[0]<=(g_2d(Yi_2d)/g_2d(Xi))):\n",
    "            sample.append(  Yi_2d )\n",
    "            Xi=Yi_2d\n",
    "            continue\n",
    "        \n",
    "        sample.append(  Xi )\n",
    "    return sample"
   ]
  },
  {
   "cell_type": "code",
   "execution_count": 258,
   "metadata": {},
   "outputs": [
    {
     "data": {
      "text/plain": [
       "0.9502391486142272"
      ]
     },
     "execution_count": 258,
     "metadata": {},
     "output_type": "execute_result"
    }
   ],
   "source": [
    "counts =  np.zeros((m, m), dtype='float64')\n",
    "X = sample_MCMC_2d_dwise(10000)\n",
    "\n",
    "for element in X:\n",
    "    #print(element)\n",
    "    i,j = element\n",
    "    counts[i,j] += 1\n",
    "sim_sum = sum(counts)\n",
    "Observed = counts/sim_sum\n",
    "Expected = P\n",
    "least_squares = np.zeros((m, m), dtype='float64')\n",
    "for i in range(m):\n",
    "    for j in range(i,m):\n",
    "        if (Expected[i,j] == 0.0): \n",
    "            least_squares[i,j]=0\n",
    "            continue\n",
    "        least_squares[i,j] = (Observed[i,j]-Expected[i,j])**2/Expected[i,j]\n",
    "chi_sqare_calculated_value = sum(sum(least_squares))\n",
    "p_value = stats.chi2.sf(chi_sqare_calculated_value, m)\n",
    "p_value"
   ]
  },
  {
   "cell_type": "code",
   "execution_count": null,
   "metadata": {},
   "outputs": [],
   "source": []
  },
  {
   "cell_type": "code",
   "execution_count": null,
   "metadata": {},
   "outputs": [],
   "source": []
  }
 ],
 "metadata": {
  "kernelspec": {
   "display_name": "Python 3",
   "language": "python",
   "name": "python3"
  },
  "language_info": {
   "codemirror_mode": {
    "name": "ipython",
    "version": 3
   },
   "file_extension": ".py",
   "mimetype": "text/x-python",
   "name": "python",
   "nbconvert_exporter": "python",
   "pygments_lexer": "ipython3",
   "version": "3.8.5"
  }
 },
 "nbformat": 4,
 "nbformat_minor": 4
}
