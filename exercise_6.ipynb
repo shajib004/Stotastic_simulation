{
 "cells": [
  {
   "cell_type": "markdown",
   "metadata": {},
   "source": [
    "### Exercise 6"
   ]
  },
  {
   "cell_type": "markdown",
   "metadata": {},
   "source": [
    "In this excercise we have implemented three different marcov chain monte carlo sampling methods."
   ]
  },
  {
   "cell_type": "code",
   "execution_count": 660,
   "metadata": {},
   "outputs": [],
   "source": [
    "import numpy as np\n",
    "from math import floor,factorial\n",
    "from scipy import stats\n",
    "from matplotlib import pyplot as plt\n",
    "from scipy.stats import chi2"
   ]
  },
  {
   "cell_type": "markdown",
   "metadata": {},
   "source": [
    "## Part 1"
   ]
  },
  {
   "cell_type": "markdown",
   "metadata": {},
   "source": [
    "In this part we have implemented one dimensional metropolis hasting. In that method we move a random step to get a new samplme using a symetrical distribution and the we check if the new sample has greater non normalized probability. Dipending on the result and some random coin flip we accept the new sample or we repeat the previous one. "
   ]
  },
  {
   "cell_type": "code",
   "execution_count": 661,
   "metadata": {},
   "outputs": [],
   "source": [
    "m=11\n",
    "lambd = 1\n",
    "s=8\n",
    "A= lambd*s"
   ]
  },
  {
   "cell_type": "markdown",
   "metadata": {},
   "source": [
    "Our theoretical distribution id partially calculated by the following function."
   ]
  },
  {
   "cell_type": "code",
   "execution_count": 662,
   "metadata": {},
   "outputs": [],
   "source": [
    "def g(i):\n",
    "    if (i > m): return 0\n",
    "    if (i < 0): return 0\n",
    "    return (A**i)/factorial(i)"
   ]
  },
  {
   "cell_type": "markdown",
   "metadata": {},
   "source": [
    "### Question a"
   ]
  },
  {
   "cell_type": "code",
   "execution_count": 663,
   "metadata": {},
   "outputs": [],
   "source": [
    "def step():\n",
    "    s = np.random.uniform(0,1,1)[0]\n",
    "    if (s<=1/3):\n",
    "        return -1\n",
    "    if (s<=2/3):\n",
    "        return 0\n",
    "    return 1"
   ]
  },
  {
   "cell_type": "code",
   "execution_count": 664,
   "metadata": {},
   "outputs": [],
   "source": [
    "def sample_MCMC(sample_size):\n",
    "    Xi=floor(m*np.random.uniform(0,1,1)[0])\n",
    "    sample = np.empty( 0 , dtype = 'float64' )\n",
    "    #sample = np.append( sample , Xi )\n",
    "    for i in range(sample_size):\n",
    "        \n",
    "        Dxi= step()\n",
    "        Yi = Xi + Dxi\n",
    "        if (Yi > m-1): \n",
    "            Yi =0\n",
    "        if (Yi < 0): \n",
    "            Yi =11\n",
    "        acceptance = 'reject'\n",
    "        if (g(Yi)>=g(Xi)):\n",
    "            if (i%10 == 1) :sample = np.append( sample , Yi )\n",
    "            Xi=Yi\n",
    "            continue\n",
    "        if (np.random.uniform(0,1,1)[0]<=(g(Yi)/g(Xi))):\n",
    "            if (i%10 == 1) :sample = np.append( sample , Yi )\n",
    "            Xi=Yi\n",
    "            continue\n",
    "        if (i%10 == 1) :sample = np.append( sample , Xi )\n",
    "    return sample"
   ]
  },
  {
   "cell_type": "code",
   "execution_count": 665,
   "metadata": {},
   "outputs": [
    {
     "data": {
      "image/png": "[encoded data removed]",
      "text/plain": [
       "<Figure size 432x288 with 1 Axes>"
      ]
     },
     "metadata": {
      "needs_background": "light"
     },
     "output_type": "display_data"
    },
    {
     "data": {
      "image/png": "[encoded data removed]",
      "text/plain": [
       "<Figure size 432x288 with 1 Axes>"
      ]
     },
     "metadata": {
      "needs_background": "light"
     },
     "output_type": "display_data"
    },
    {
     "name": "stdout",
     "output_type": "stream",
     "text": [
      "Test score =  8.076677533814195\n",
      "p_value =  0.6213472689211926\n"
     ]
    }
   ],
   "source": [
    "P = [g(i) for i in range(m)]\n",
    "denominator = sum(P)\n",
    "P = [100000*i/denominator for i in P ]\n",
    "X = sample_MCMC(1000001)\n",
    "X = X\n",
    "sim_sum = sum(X)\n",
    "\n",
    "Observ, bins = np.histogram(X, bins= m)\n",
    "\n",
    "plt.bar(x=range(m),height=Observ, edgecolor='black')\n",
    "plt.title('Sampled distribution')\n",
    "plt.show()\n",
    "plt.bar(x=range(m),height=P , edgecolor='black')\n",
    "plt.title('Expected distribution')\n",
    "plt.show()\n",
    "\n",
    "Observed =  Observ\n",
    "Expected = P\n",
    "\n",
    "\n",
    "least_squares = [(Obs-Exp)**2/Exp for Obs, Exp in list(zip(Expected,Observed))]\n",
    "chi_sqare_calculated_value = sum(least_squares)\n",
    "print('Test score = ',chi_sqare_calculated_value)\n",
    "p_value = 1-chi2.cdf(chi_sqare_calculated_value,(np.array(Expected)>0).sum()-1)\n",
    "print('p_value = ',p_value)"
   ]
  },
  {
   "cell_type": "markdown",
   "metadata": {},
   "source": [
    "The empirical and the analytical distributions are very close. Also the p-value of the chi2 test is above 0.05 so we have one more reason to believe that we are doing a good sampling."
   ]
  },
  {
   "cell_type": "code",
   "execution_count": 666,
   "metadata": {},
   "outputs": [],
   "source": [
    "def p_value_1D(samples_number):\n",
    "    P = [g(i) for i in range(m)]\n",
    "    denominator = sum(P)\n",
    "    P = [10000*i/denominator for i in P ]\n",
    "    test_scores = np.empty(0,dtype = 'float64')\n",
    "    p_values = np.empty(0,dtype = 'float64')\n",
    "    for i in range(samples_number):\n",
    "        X = sample_MCMC(100501)\n",
    "        X = X[50:]\n",
    "\n",
    "        Observ, bins = np.histogram(X, bins= m)\n",
    "        Observed =  Observ\n",
    "        Expected = P\n",
    "        least_squares = [(Obs-Exp)**2/Exp for Obs, Exp in list(zip(Expected,Observed))]\n",
    "        chi_sqare_calculated_value = sum(least_squares)\n",
    "        p_value = 1-chi2.cdf(chi_sqare_calculated_value,9)\n",
    "        \n",
    "        test_scores = np.append(test_scores,chi_sqare_calculated_value)\n",
    "        p_values = np.append(p_values,p_value)\n",
    "    return test_scores,p_values\n",
    "test_scores,p_values = p_value_1D(100)\n",
    "Observ, bins = np.histogram(X, bins= 10)"
   ]
  },
  {
   "cell_type": "markdown",
   "metadata": {},
   "source": [
    "To be mores ure we have tried to check the distribution of the p-value."
   ]
  },
  {
   "cell_type": "code",
   "execution_count": 667,
   "metadata": {
    "scrolled": true
   },
   "outputs": [
    {
     "data": {
      "image/png": "[encoded data removed]",
      "text/plain": [
       "<Figure size 432x288 with 1 Axes>"
      ]
     },
     "metadata": {
      "needs_background": "light"
     },
     "output_type": "display_data"
    }
   ],
   "source": [
    "Observ, bins = np.histogram(p_values, bins= 10)\n",
    "plt.hist(p_values, bins= 10)\n",
    "plt.show()"
   ]
  },
  {
   "cell_type": "markdown",
   "metadata": {},
   "source": [
    "It seems that the distribution of the p-value is not uniformly distributed. One possible explanation could be that at 0 we have less than five observations. "
   ]
  },
  {
   "cell_type": "markdown",
   "metadata": {},
   "source": [
    "## Part 2"
   ]
  },
  {
   "cell_type": "markdown",
   "metadata": {},
   "source": [
    "In this part we apply the same method at the two dimentions"
   ]
  },
  {
   "cell_type": "code",
   "execution_count": 668,
   "metadata": {},
   "outputs": [],
   "source": [
    "A = 4"
   ]
  },
  {
   "cell_type": "markdown",
   "metadata": {},
   "source": [
    "### a "
   ]
  },
  {
   "cell_type": "markdown",
   "metadata": {},
   "source": [
    "In this part we in each step we move at the same time to two directions while doing the 2D MCMC sampling."
   ]
  },
  {
   "cell_type": "code",
   "execution_count": 669,
   "metadata": {},
   "outputs": [],
   "source": [
    "def g_2d(x):\n",
    "    i,j = x\n",
    "    if (i >= m): return 0\n",
    "    if (j >= m): return 0\n",
    "    if (i+j >= m): return 0\n",
    "    if (i < 0): return 0\n",
    "    if (j < 0): return 0\n",
    "    if (i+j < 0): return 0\n",
    "    return ((A**i)/factorial(i))*((A**j)/factorial(j))\n"
   ]
  },
  {
   "cell_type": "code",
   "execution_count": 670,
   "metadata": {},
   "outputs": [],
   "source": [
    "def sample_MCMC_2d(sample_size):\n",
    "    Xi1=floor(m*np.random.uniform(0,1,1)[0])\n",
    "    Xi2=floor((m-Xi1)*np.random.uniform(0,1,1)[0])\n",
    "    Xi=(Xi1,Xi2)\n",
    "    sample = []\n",
    "    sample.append( Xi )\n",
    "    for i in range(sample_size-1):\n",
    "        #print('sample=',sample)\n",
    "        Dxi_1= step()\n",
    "        Dxi_2= step()\n",
    "        Yi = ((Xi[0] + Dxi_1)%m,(Xi[1]+Dxi_2)%m)\n",
    "        acceptance = 'reject'\n",
    "        #print('Xi=',Xi)\n",
    "        #print('Yi=',Yi)\n",
    "        #print('g(Xi)=',g(Xi))\n",
    "        #print('g(Yi)=',g(Yi))\n",
    "        #input()\n",
    "        if (g_2d(Yi)>=g_2d(Xi)):\n",
    "            if (i%10 == 0) :sample.append( Yi )\n",
    "            Xi=Yi\n",
    "            continue\n",
    "        if (np.random.uniform(0,1,1)[0]<=(g_2d(Yi)/g_2d(Xi))):\n",
    "            if (i%10 == 0) :sample.append(  Yi )\n",
    "            Xi=Yi\n",
    "            continue\n",
    "        if (i%10 == 0) :sample.append(  Xi )\n",
    "    return sample"
   ]
  },
  {
   "cell_type": "code",
   "execution_count": 671,
   "metadata": {},
   "outputs": [],
   "source": [
    "probs = np.zeros((m, m), dtype='float64')\n",
    "\n",
    "for i in range(m):\n",
    "    for j in range(m):\n",
    "        probs[i,j] = g_2d((i,j))\n",
    "P = probs\n",
    "denominator = sum(sum(P))\n",
    "P = 10000*P/denominator"
   ]
  },
  {
   "cell_type": "code",
   "execution_count": 672,
   "metadata": {},
   "outputs": [
    {
     "data": {
      "image/png": "[encoded data removed]",
      "text/plain": [
       "<Figure size 432x288 with 2 Axes>"
      ]
     },
     "metadata": {
      "needs_background": "light"
     },
     "output_type": "display_data"
    },
    {
     "data": {
      "image/png": "[encoded data removed]",
      "text/plain": [
       "<Figure size 432x288 with 2 Axes>"
      ]
     },
     "metadata": {
      "needs_background": "light"
     },
     "output_type": "display_data"
    },
    {
     "name": "stdout",
     "output_type": "stream",
     "text": [
      "Chi2 score 72.69796519495402\n",
      "p-value = 0.23942184868356475\n"
     ]
    }
   ],
   "source": [
    "counts =  np.zeros((m, m), dtype='float64')\n",
    "X = sample_MCMC_2d(100000)\n",
    "\n",
    "for element in X:\n",
    "    #print(element)\n",
    "    i,j = element\n",
    "    counts[i,j] += 1\n",
    "sim_sum = sum(counts)\n",
    "Observed = counts\n",
    "Expected = P\n",
    "\n",
    "plt.imshow(Observed, cmap='hot')\n",
    "plt.colorbar()\n",
    "plt.title(\"Simulation\")\n",
    "plt.show()\n",
    "\n",
    "plt.imshow(Expected, cmap='hot')\n",
    "plt.colorbar()\n",
    "plt.title(\"Expected\")\n",
    "plt.show()\n",
    "\n",
    "least_squares = np.zeros((m, m), dtype='float64')\n",
    "for i in range(m):\n",
    "    for j in range(m):\n",
    "        if (Expected[i,j] == 0.0): \n",
    "            least_squares[i,j]=0\n",
    "            continue\n",
    "        least_squares[i,j] = (Observed[i,j]-Expected[i,j])**2/Expected[i,j]\n",
    "chi_sqare_calculated_value = sum(sum(least_squares))\n",
    "print('Chi2 score',chi_sqare_calculated_value)\n",
    "p_value = 1-chi2.cdf(chi_sqare_calculated_value,(np.array(Expected)>0).sum()-1)\n",
    "p_value\n",
    "print('p-value =',p_value)"
   ]
  },
  {
   "cell_type": "markdown",
   "metadata": {},
   "source": [
    "The theoretical and the expected distributions are very similar to one another. This is also shown from the p-value at the chi2 test which is above 0.05."
   ]
  },
  {
   "cell_type": "code",
   "execution_count": 673,
   "metadata": {},
   "outputs": [],
   "source": [
    "def p_value_2D(samples_number):\n",
    "    \n",
    "    probs = np.zeros((m, m), dtype='float64')\n",
    "\n",
    "    for i in range(m):\n",
    "        for j in range(m):\n",
    "            probs[i,j] = g_2d((i,j))\n",
    "    P = probs\n",
    "    denominator = sum(sum(P))\n",
    "    P = 10000*P/denominator\n",
    "    \n",
    "    test_scores = np.empty(0,dtype = 'float64')\n",
    "    p_values = np.empty(0,dtype = 'float64')\n",
    "    for i in range(samples_number):\n",
    "        X = sample_MCMC_2d(100501)\n",
    "        X = X[50:]\n",
    "\n",
    "        Observ, bins = np.histogram(X, bins= m)\n",
    "        Observed =  Observ\n",
    "        Expected = P\n",
    "        least_squares = [(Obs-Exp)**2/Exp for Obs, Exp in list(zip(Expected,Observed))]\n",
    "        chi_sqare_calculated_value = sum(least_squares)\n",
    "        p_value = 1-chi2.cdf(chi_sqare_calculated_value,(np.array(Expected)>0).sum()-1)\n",
    "        \n",
    "        test_scores = np.append(test_scores,chi_sqare_calculated_value)\n",
    "        p_values = np.append(p_values,p_value)\n",
    "    return test_scores,p_values\n",
    "test_scores,p_values = p_value_1D(100)\n",
    "Observ, bins = np.histogram(X, bins= 10)"
   ]
  },
  {
   "cell_type": "markdown",
   "metadata": {},
   "source": [
    "### Question b"
   ]
  },
  {
   "cell_type": "markdown",
   "metadata": {},
   "source": [
    "Now we are going to do a MCMC at two dimensions but doing it into  steps in order to make a dimension-wise sampling."
   ]
  },
  {
   "cell_type": "code",
   "execution_count": 674,
   "metadata": {},
   "outputs": [],
   "source": [
    "def sample_MCMC_2d_dwise(sample_size):\n",
    "    Xi1=floor(m*np.random.uniform(0,1,1)[0])\n",
    "    Xi2=floor((m-Xi1)*np.random.uniform(0,1,1)[0])\n",
    "    Xi=(Xi1,Xi2)\n",
    "    sample = []\n",
    "    sample.append( Xi )\n",
    "    for i in range(sample_size-1):\n",
    "        #print('sample=',sample)\n",
    "        Dxi_1= step()\n",
    "        Dxi_2= step()\n",
    "        Yi_1d = ((Xi[0] + Dxi_1)%m,Xi[1])\n",
    "        #print('Xi=',Xi)\n",
    "        #print('Yi=',Yi)\n",
    "        #print('g(Xi)=',g(Xi))\n",
    "        #print('g(Yi)=',g(Yi))\n",
    "        #input()\n",
    "        if (g_2d(Yi_1d)>=g_2d(Xi)):\n",
    "            Xi=Yi_1d\n",
    "         \n",
    "        elif (np.random.uniform(0,1,1)[0]<=(g_2d(Yi_1d)/g_2d(Xi))):\n",
    "            Xi=Yi_1d\n",
    "        Yi_2d = (Xi[0],(Xi[1] + Dxi_2)%m)\n",
    "        \n",
    "        \n",
    "        if (g_2d(Yi_2d)>=g_2d(Xi)):\n",
    "            if (i%10 == 0) :sample.append(Yi_2d )\n",
    "            Xi=Yi_2d\n",
    "            continue\n",
    "        if (np.random.uniform(0,1,1)[0]<=(g_2d(Yi_2d)/g_2d(Xi))):\n",
    "            if (i%10 == 0) :sample.append(  Yi_2d )\n",
    "            Xi=Yi_2d\n",
    "            continue\n",
    "        \n",
    "        if (i%10 == 0) :sample.append(  Xi )\n",
    "    return sample"
   ]
  },
  {
   "cell_type": "code",
   "execution_count": 675,
   "metadata": {},
   "outputs": [
    {
     "data": {
      "image/png": "[encoded data removed]",
      "text/plain": [
       "<Figure size 432x288 with 2 Axes>"
      ]
     },
     "metadata": {
      "needs_background": "light"
     },
     "output_type": "display_data"
    },
    {
     "data": {
      "image/png": "[encoded data removed]",
      "text/plain": [
       "<Figure size 432x288 with 2 Axes>"
      ]
     },
     "metadata": {
      "needs_background": "light"
     },
     "output_type": "display_data"
    },
    {
     "name": "stdout",
     "output_type": "stream",
     "text": [
      "Chi2 score 58.325568035034195\n",
      "p-value = 0.7080467932183352\n"
     ]
    }
   ],
   "source": [
    "probs = np.zeros((m, m), dtype='float64')\n",
    "\n",
    "for i in range(m):\n",
    "    for j in range(m):\n",
    "        probs[i,j] = g_2d((i,j))\n",
    "P = probs\n",
    "denominator = sum(sum(P))\n",
    "P = 10000*P/denominator\n",
    "\n",
    "counts =  np.zeros((m, m), dtype='float64')\n",
    "X = sample_MCMC_2d_dwise(100050)\n",
    "X = X[50:]\n",
    "\n",
    "for element in X:\n",
    "    #print(element)\n",
    "    i,j = element\n",
    "    counts[i,j] += 1\n",
    "sim_sum = sum(counts)\n",
    "Observed = counts\n",
    "Expected = P\n",
    "\n",
    "\n",
    "\n",
    "plt.imshow(Observed, cmap='hot')\n",
    "plt.colorbar()\n",
    "plt.title(\"obsetved\")\n",
    "plt.show()\n",
    "\n",
    "plt.imshow(Expected, cmap='hot')\n",
    "plt.colorbar()\n",
    "plt.title(\"expected\")\n",
    "plt.show()\n",
    "\n",
    "least_squares = np.zeros((m, m), dtype='float64')\n",
    "for i in range(m):\n",
    "    for j in range(m):\n",
    "        if (Expected[i,j] == 0.0): \n",
    "            least_squares[i,j]=0\n",
    "            continue\n",
    "        least_squares[i,j] = (Observed[i,j]-Expected[i,j])**2/Expected[i,j]\n",
    "chi_sqare_calculated_value = sum(sum(least_squares))\n",
    "print('Chi2 score',chi_sqare_calculated_value)\n",
    "p_value = 1-chi2.cdf(chi_sqare_calculated_value,(np.array(Expected)>0).sum()-1)\n",
    "p_value\n",
    "print('p-value =',p_value)"
   ]
  },
  {
   "cell_type": "markdown",
   "metadata": {},
   "source": [
    "The theoretical and the expected distributions are very similar to one another. This is also shown from the p-value at the chi2 test which is above 0.05."
   ]
  }
 ],
 "metadata": {
  "kernelspec": {
   "display_name": "Python 3",
   "language": "python",
   "name": "python3"
  },
  "language_info": {
   "codemirror_mode": {
    "name": "ipython",
    "version": 3
   },
   "file_extension": ".py",
   "mimetype": "text/x-python",
   "name": "python",
   "nbconvert_exporter": "python",
   "pygments_lexer": "ipython3",
   "version": "3.8.5"
  }
 },
 "nbformat": 4,
 "nbformat_minor": 4
}
