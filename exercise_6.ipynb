{
 "cells": [
  {
   "cell_type": "markdown",
   "metadata": {},
   "source": [
    "### Exercise 6"
   ]
  },
  {
   "cell_type": "markdown",
   "metadata": {},
   "source": [
    "In this excercise we have implemented three different marcov chain monte carlo sampling methods."
   ]
  },
  {
   "cell_type": "code",
   "execution_count": 19,
   "metadata": {},
   "outputs": [],
   "source": [
    "import numpy as np\n",
    "from math import floor,factorial\n",
    "from scipy import stats"
   ]
  },
  {
   "cell_type": "code",
   "execution_count": 20,
   "metadata": {},
   "outputs": [
    {
     "data": {
      "text/plain": [
       "5"
      ]
     },
     "execution_count": 20,
     "metadata": {},
     "output_type": "execute_result"
    }
   ],
   "source": [
    "floor(5.1)"
   ]
  },
  {
   "cell_type": "markdown",
   "metadata": {},
   "source": [
    "## Part 1"
   ]
  },
  {
   "cell_type": "markdown",
   "metadata": {},
   "source": [
    "In this part we have implemented one dimensional metropolis hasting. In that method we move a random step to get a new samplme using a symetrical distribution and the we check if the new sample has greater non normalized probability. Dipending on the result and some random coin flip we accept the new sample or we repeat the previous one. "
   ]
  },
  {
   "cell_type": "code",
   "execution_count": 21,
   "metadata": {},
   "outputs": [],
   "source": [
    "m=10\n",
    "lambd = 1\n",
    "s=8\n",
    "A= lambd*s"
   ]
  },
  {
   "cell_type": "code",
   "execution_count": null,
   "metadata": {},
   "outputs": [],
   "source": []
  },
  {
   "cell_type": "code",
   "execution_count": 22,
   "metadata": {},
   "outputs": [],
   "source": [
    "def g(i):\n",
    "    if (i > m): return 0\n",
    "    if (i < 0): return 0\n",
    "    return (A**i)/factorial(i)"
   ]
  },
  {
   "cell_type": "markdown",
   "metadata": {},
   "source": [
    "We get a value from the $\\chi^2$ test that is greater than 0.05. so it is an acceptale sample"
   ]
  },
  {
   "cell_type": "markdown",
   "metadata": {},
   "source": [
    "## Part 2"
   ]
  },
  {
   "cell_type": "markdown",
   "metadata": {},
   "source": []
  },
  {
   "cell_type": "markdown",
   "metadata": {},
   "source": [
    "### Question a"
   ]
  },
  {
   "cell_type": "code",
   "execution_count": 23,
   "metadata": {},
   "outputs": [],
   "source": [
    "def sample_MCMC(sample_size):\n",
    "    Xi=0\n",
    "    sample = np.empty( 0 , dtype = 'float64' )\n",
    "    sample = np.append( sample , Xi )\n",
    "    for i in range(sample_size-1):\n",
    "        Dxi= floor(10 * np.random.uniform(-1,1,1)[0])\n",
    "        Yi = Xi + Dxi\n",
    "        acceptance = 'reject'\n",
    "        if (g(Yi)>=g(Xi)):\n",
    "            sample = np.append( sample , Yi )\n",
    "            Xi=Yi\n",
    "            continue\n",
    "        if (np.random.uniform(0,1,1)[0]<=(g(Yi)/g(Xi))):\n",
    "            sample = np.append( sample , Yi )\n",
    "            Xi=Yi\n",
    "            continue\n",
    "        sample = np.append( sample , Xi )\n",
    "    return sample"
   ]
  },
  {
   "cell_type": "code",
   "execution_count": 24,
   "metadata": {},
   "outputs": [
    {
     "data": {
      "text/plain": [
       "0.8560111489829808"
      ]
     },
     "execution_count": 24,
     "metadata": {},
     "output_type": "execute_result"
    }
   ],
   "source": [
    "P = [g(i) for i in range(m)]\n",
    "denominator = sum(P)\n",
    "P = [i/denominator for i in (P) ]\n",
    "X = sample_MCMC(10000)\n",
    "sim_sum = sum(X)\n",
    "Observ, bins = np.histogram(X, bins= m)\n",
    "Observed = [i/sim_sum for i in Observ]\n",
    "Expected = P\n",
    "least_squares = [(Obs-Exp)**2/Exp for Obs, Exp in list(zip(Expected,Observed))]\n",
    "chi_sqare_calculated_value = sum(least_squares)\n",
    "p_value = stats.chi2.sf(chi_sqare_calculated_value, m)\n",
    "p_value"
   ]
  },
  {
   "cell_type": "markdown",
   "metadata": {},
   "source": [
    "## Part 2"
   ]
  },
  {
   "cell_type": "markdown",
   "metadata": {},
   "source": [
    "In this part we apply the same method at the two dimentions"
   ]
  },
  {
   "cell_type": "markdown",
   "metadata": {},
   "source": [
    "### a "
   ]
  },
  {
   "cell_type": "markdown",
   "metadata": {},
   "source": [
    "In this part we in each step we move a the same time to two directions"
   ]
  },
  {
   "cell_type": "code",
   "execution_count": 25,
   "metadata": {},
   "outputs": [],
   "source": [
    "def g_2d(x):\n",
    "    i,j = x\n",
    "    if (i >= m): return 0\n",
    "    if (j >= m): return 0\n",
    "    if (i+j > m): return 0\n",
    "    if (i < 0): return 0\n",
    "    if (j < 0): return 0\n",
    "    if (i+j < 0): return 0\n",
    "    return ((A**i)/factorial(i))*((A**j)/factorial(j))"
   ]
  },
  {
   "cell_type": "code",
   "execution_count": 26,
   "metadata": {},
   "outputs": [],
   "source": [
    "def sample_MCMC_2d(sample_size):\n",
    "    Xi=(0,0)\n",
    "    sample = []\n",
    "    sample.append( Xi )\n",
    "    for i in range(sample_size-1):\n",
    "        #print('sample=',sample)\n",
    "        Dxi_1= floor(3* np.random.normal(0,1,1)[0])\n",
    "        Dxi_2= floor(3* np.random.normal(0,1,1)[0])\n",
    "        Yi = (Xi[1] + Dxi_1,Xi[1]+Dxi_2)\n",
    "        acceptance = 'reject'\n",
    "        #print('Xi=',Xi)\n",
    "        #print('Yi=',Yi)\n",
    "        #print('g(Xi)=',g(Xi))\n",
    "        #print('g(Yi)=',g(Yi))\n",
    "        #input()\n",
    "        if (g_2d(Yi)>=g_2d(Xi)):\n",
    "            sample.append( Yi )\n",
    "            Xi=Yi\n",
    "            continue\n",
    "        if (np.random.uniform(0,1,1)[0]<=(g_2d(Yi)/g_2d(Xi))):\n",
    "            sample.append(  Yi )\n",
    "            Xi=Yi\n",
    "            continue\n",
    "        sample.append(  Xi )\n",
    "    return sample"
   ]
  },
  {
   "cell_type": "code",
   "execution_count": 27,
   "metadata": {},
   "outputs": [],
   "source": [
    "probs = np.zeros((m, m), dtype='float64')\n"
   ]
  },
  {
   "cell_type": "code",
   "execution_count": 28,
   "metadata": {},
   "outputs": [],
   "source": [
    "for i in range(m):\n",
    "    for j in range(i,m):\n",
    "        probs[i,j] = g_2d((i,j))"
   ]
  },
  {
   "cell_type": "code",
   "execution_count": null,
   "metadata": {
    "scrolled": true
   },
   "outputs": [],
   "source": []
  },
  {
   "cell_type": "code",
   "execution_count": 29,
   "metadata": {
    "scrolled": true
   },
   "outputs": [],
   "source": [
    "P = probs\n",
    "denominator = sum(P)\n",
    "P = P/denominator"
   ]
  },
  {
   "cell_type": "code",
   "execution_count": 30,
   "metadata": {},
   "outputs": [
    {
     "data": {
      "text/plain": [
       "0.9359768282466883"
      ]
     },
     "execution_count": 30,
     "metadata": {},
     "output_type": "execute_result"
    }
   ],
   "source": [
    "counts =  np.zeros((m, m), dtype='float64')\n",
    "X = sample_MCMC_2d(10000)\n",
    "\n",
    "for element in X:\n",
    "    #print(element)\n",
    "    i,j = element\n",
    "    counts[i,j] += 1\n",
    "sim_sum = sum(counts)\n",
    "Observed = counts/sim_sum\n",
    "Expected = P\n",
    "least_squares = np.zeros((m, m), dtype='float64')\n",
    "for i in range(m):\n",
    "    for j in range(i,m):\n",
    "        if (Expected[i,j] == 0.0): \n",
    "            least_squares[i,j]=0\n",
    "            continue\n",
    "        least_squares[i,j] = (Observed[i,j]-Expected[i,j])**2/Expected[i,j]\n",
    "chi_sqare_calculated_value = sum(sum(least_squares))\n",
    "p_value = stats.chi2.sf(chi_sqare_calculated_value, m)\n",
    "p_value"
   ]
  },
  {
   "cell_type": "markdown",
   "metadata": {},
   "source": [
    "We get a value from the $\\chi^2$ test that is greater than 0.05. so it is an acceptale sample"
   ]
  },
  {
   "cell_type": "markdown",
   "metadata": {},
   "source": [
    "### Question b"
   ]
  },
  {
   "cell_type": "code",
   "execution_count": 36,
   "metadata": {},
   "outputs": [],
   "source": [
    "def sample_MCMC_2d_dwise(sample_size):\n",
    "    Xi=(0,0)\n",
    "    sample = []\n",
    "    sample.append( Xi )\n",
    "    for i in range(sample_size-1):\n",
    "        #print('sample=',sample)\n",
    "        Dxi_1= floor(3* np.random.normal(0,1,1)[0])\n",
    "        Dxi_2= floor(3* np.random.normal(0,1,1)[0])\n",
    "        Yi_1d = (Xi[1] + Dxi_1,Xi[1])\n",
    "        #print('Xi=',Xi)\n",
    "        #print('Yi=',Yi)\n",
    "        #print('g(Xi)=',g(Xi))\n",
    "        #print('g(Yi)=',g(Yi))\n",
    "        #input()\n",
    "        if (g_2d(Yi_1d)>=g_2d(Xi)):\n",
    "            Xi=Yi_1d\n",
    "         \n",
    "        elif (np.random.uniform(0,1,1)[0]<=(g_2d(Yi_1d)/g_2d(Xi))):\n",
    "            Xi=Yi_1d\n",
    "        Yi_2d = (Xi[1],Xi[1] + Dxi_2)\n",
    "        \n",
    "        \n",
    "        if (g_2d(Yi_2d)>=g_2d(Xi)):\n",
    "            sample.append(Yi_2d )\n",
    "            Xi=Yi_2d\n",
    "            continue\n",
    "        if (np.random.uniform(0,1,1)[0]<=(g_2d(Yi_2d)/g_2d(Xi))):\n",
    "            sample.append(  Yi_2d )\n",
    "            Xi=Yi_2d\n",
    "            continue\n",
    "        \n",
    "        sample.append(  Xi )\n",
    "    return sample"
   ]
  },
  {
   "cell_type": "code",
   "execution_count": 37,
   "metadata": {},
   "outputs": [
    {
     "data": {
      "text/plain": [
       "0.9274668395801717"
      ]
     },
     "execution_count": 37,
     "metadata": {},
     "output_type": "execute_result"
    }
   ],
   "source": [
    "counts =  np.zeros((m, m), dtype='float64')\n",
    "X = sample_MCMC_2d_dwise(10000)\n",
    "\n",
    "for element in X:\n",
    "    #print(element)\n",
    "    i,j = element\n",
    "    counts[i,j] += 1\n",
    "sim_sum = sum(counts)\n",
    "Observed = counts/sim_sum\n",
    "Expected = P\n",
    "least_squares = np.zeros((m, m), dtype='float64')\n",
    "for i in range(m):\n",
    "    for j in range(i,m):\n",
    "        if (Expected[i,j] == 0.0): \n",
    "            least_squares[i,j]=0\n",
    "            continue\n",
    "        least_squares[i,j] = (Observed[i,j]-Expected[i,j])**2/Expected[i,j]\n",
    "chi_sqare_calculated_value = sum(sum(least_squares))\n",
    "p_value = stats.chi2.sf(chi_sqare_calculated_value, m)\n",
    "p_value"
   ]
  },
  {
   "cell_type": "code",
   "execution_count": null,
   "metadata": {},
   "outputs": [],
   "source": []
  },
  {
   "cell_type": "code",
   "execution_count": null,
   "metadata": {},
   "outputs": [],
   "source": []
  }
 ],
 "metadata": {
  "kernelspec": {
   "display_name": "Python 3",
   "language": "python",
   "name": "python3"
  },
  "language_info": {
   "codemirror_mode": {
    "name": "ipython",
    "version": 3
   },
   "file_extension": ".py",
   "mimetype": "text/x-python",
   "name": "python",
   "nbconvert_exporter": "python",
   "pygments_lexer": "ipython3",
   "version": "3.8.5"
  }
 },
 "nbformat": 4,
 "nbformat_minor": 4
}
