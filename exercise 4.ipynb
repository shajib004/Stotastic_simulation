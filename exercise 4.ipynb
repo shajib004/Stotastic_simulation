{
 "cells": [
  {
   "cell_type": "markdown",
   "id": "0eac8760",
   "metadata": {},
   "source": [
    "Exercise 4\n",
    "\n",
    "Write a discrete event simulation program for a blocking system,\n",
    "i.e. a system with m service units and no waiting room. The offered\n",
    "traffic A is the product of the mean arrival rate and the mean\n",
    "service time.\n",
    "1. The arrival process is modelled as a Poisson process. Report the\n",
    "fraction of blocked customers, and a confidence interval for this\n",
    "fraction. Choose the service time distribution as exponential.\n",
    "Parameters: m = 10, mean service time = 8 time units, mean\n",
    "time between customers = 1 time unit (corresponding to an\n",
    "offered traffic of 8 Erlang), 10 x 10.000 customers.\n",
    "This system is sufficiently simple such that the analytical\n",
    "solution is known. See the last slide for the solution. Verify your\n",
    "simulation program using this knowledge.\n",
    "2. The arrival process is modelled as a renewal process using the\n",
    "same parameters as in Part 1 when possible. Report the\n",
    "fraction of blocked customers, and a confidence interval for this\n",
    "fraction for at least the following two cases\n",
    "\n",
    "(a) Experiment with Erlang distributed inter arrival times The\n",
    "Erlang distribution should have a mean of 1\n",
    "\n",
    "(b) hyper exponential inter arrival times. The parameters for\n",
    "the hyper exponential distribution should be\n",
    "p1 = 0.8, λ1 = 0.8333, p2 = 0.2, λ2 = 5.0.\n",
    "\n",
    "3. The arrival process is again a Poisson process like in Part 1.\n",
    "Experiment with different service time distributions with the\n",
    "same mean service time and m as in Part 1 and Part 2.\n",
    "(a) Constant service time\n",
    "(b) Pareto distributed service times with at least k = 1.05 and\n",
    "k = 2.05.\n",
    "(c) Choose one or two other distributions.\n",
    "4. Compare confidence intervals for Parts 1, 2, and 3 then\n",
    "interpret and explain differences if any."
   ]
  },
  {
   "cell_type": "markdown",
   "id": "fd244b5a",
   "metadata": {},
   "source": [
    "# 1"
   ]
  },
  {
   "cell_type": "code",
   "execution_count": 76,
   "id": "ff3c204e",
   "metadata": {},
   "outputs": [],
   "source": [
    "def simulate_poisson(N, lambd, service_mean, service_number):\n",
    "    \n",
    "    customer_number = 10000\n",
    "    A = lambd * service_mean\n",
    "    temp = np.arange(0,service_number+1)\n",
    "    B = (A**service_number)/math.factorial(service_number)/sum([(A**x)/math.factorial(x) for x in temp])\n",
    "    blocked_probability =[]\n",
    "    for i in range(N):\n",
    "        service_times = np.empty(0,dtype = 'float64')\n",
    "        blocked_customers = 0\n",
    "        time = 0.0\n",
    "        for i in range(customer_number):\n",
    "            interval = np.random.exponential(scale=lambd, size=1)\n",
    "            time += interval\n",
    "            service_times= service_times[service_times >time]\n",
    "        \n",
    "            if (len(service_times)<service_number):\n",
    "                service_interval = np.random.exponential(scale=service_mean)\n",
    "                service_times = np.append(service_times,time+service_interval)\n",
    "            else:\n",
    "                blocked_customers += 1\n",
    "        print ('Total customer = {}, Blocked customers = {}, Blocking Probability = {}'.format(customer_number, blocked_customers, float(blocked_customers)/customer_number))\n",
    "        blocked_probability = float(blocked_customers/customer_number)\n",
    "    \n",
    "    theta_bar = np.sum(blocked_probability)/N\n",
    "    S_square = (1/(N-1))* (np.sum(np.multiply(blocked_probability,blocked_probability)) - N * theta_bar **2)\n",
    "    S = math.sqrt(abs(S_square))\n",
    "    conf_interval = [theta_bar+(S/math.sqrt(N))*stats.t.ppf(0.025, N-1),theta_bar+(S/math.sqrt(N))*stats.t.ppf(1-0.025, N-1)]\n",
    "    print('\\nTheoritical blocking probability is :', B)\n",
    "    print('Mean blocking probability {} of {} runs with confidence interval :{}'.format(theta_bar,N,conf_interval))\n"
   ]
  },
  {
   "cell_type": "code",
   "execution_count": 77,
   "id": "5ed50e90",
   "metadata": {},
   "outputs": [
    {
     "name": "stdout",
     "output_type": "stream",
     "text": [
      "Total customer = 10000, Blocked customers = 1141, Blocking Probability = 0.1141\n",
      "Total customer = 10000, Blocked customers = 1264, Blocking Probability = 0.1264\n",
      "Total customer = 10000, Blocked customers = 1207, Blocking Probability = 0.1207\n",
      "Total customer = 10000, Blocked customers = 1277, Blocking Probability = 0.1277\n",
      "Total customer = 10000, Blocked customers = 1219, Blocking Probability = 0.1219\n",
      "Total customer = 10000, Blocked customers = 1254, Blocking Probability = 0.1254\n",
      "Total customer = 10000, Blocked customers = 1258, Blocking Probability = 0.1258\n",
      "Total customer = 10000, Blocked customers = 1206, Blocking Probability = 0.1206\n",
      "Total customer = 10000, Blocked customers = 1254, Blocking Probability = 0.1254\n",
      "Total customer = 10000, Blocked customers = 1210, Blocking Probability = 0.121\n",
      "\n",
      "Theoritical blocking probability is : 0.12166106425295149\n",
      "Mean blocking probability 0.0121 of 10 runs with confidence interval :[-0.015272101669166, 0.039472101669165996]\n"
     ]
    }
   ],
   "source": [
    "simulate_poisson(10,1,8,10)"
   ]
  },
  {
   "cell_type": "code",
   "execution_count": 78,
   "id": "57acc5c5",
   "metadata": {},
   "outputs": [],
   "source": [
    "lambd = 1; # arrival rate\n",
    "s = 8; # mean service rate\n",
    "m = 10; # number of available server"
   ]
  },
  {
   "cell_type": "markdown",
   "id": "3d1eed21",
   "metadata": {},
   "source": [
    "# 2"
   ]
  },
  {
   "cell_type": "code",
   "execution_count": 79,
   "id": "594b8fba",
   "metadata": {},
   "outputs": [],
   "source": [
    "\n",
    "def simulate_earling(N, lambd, k, service_mean, service_number):\n",
    "    \n",
    "    customer_number = 10000\n",
    "    blocked_probability =[]\n",
    "    for i in range(N):\n",
    "        service_times = np.empty(0,dtype = 'float64')\n",
    "        blocked_customers = 0\n",
    "        time = 0.0\n",
    "        for i in range(customer_number):\n",
    "            interval = np.random.exponential(1/(lambd),k)\n",
    "            time += interval\n",
    "            service_times= service_times[service_times >time]\n",
    "        \n",
    "            if (len(service_times)<service_number):\n",
    "                service_interval = np.random.exponential(scale=service_mean)\n",
    "                service_times = np.append(service_times,time+service_interval)\n",
    "            else:\n",
    "                blocked_customers += 1\n",
    "        print ('Total customer = {}, Blocked customers = {}, Blocking Probability = {}'.format(customer_number, blocked_customers, float(blocked_customers)/customer_number))\n",
    "        blocked_probability = float(blocked_customers/customer_number)\n",
    "    \n",
    "    theta_bar = np.sum(blocked_probability)/N\n",
    "    S_square = (1/(N-1))* (np.sum(np.multiply(blocked_probability,blocked_probability)) - N * theta_bar **2)\n",
    "    S = math.sqrt(abs(S_square))\n",
    "    conf_interval = [theta_bar+(S/math.sqrt(N))*stats.t.ppf(0.025, N-1),theta_bar+(S/math.sqrt(N))*stats.t.ppf(1-0.025, N-1)]\n",
    "    print('Mean blocking probability {} of {} runs with confidence interval :{}'.format(theta_bar,N,conf_interval))\n",
    "    \n"
   ]
  },
  {
   "cell_type": "code",
   "execution_count": 73,
   "id": "13bea052",
   "metadata": {},
   "outputs": [
    {
     "name": "stdout",
     "output_type": "stream",
     "text": [
      "Total customer = 10000, Blocked customers = 1251, Blocking Probability = 0.1251\n",
      "Total customer = 10000, Blocked customers = 1224, Blocking Probability = 0.1224\n",
      "Total customer = 10000, Blocked customers = 1176, Blocking Probability = 0.1176\n",
      "Total customer = 10000, Blocked customers = 1220, Blocking Probability = 0.122\n",
      "Total customer = 10000, Blocked customers = 1107, Blocking Probability = 0.1107\n",
      "Total customer = 10000, Blocked customers = 1148, Blocking Probability = 0.1148\n",
      "Total customer = 10000, Blocked customers = 1169, Blocking Probability = 0.1169\n",
      "Total customer = 10000, Blocked customers = 1184, Blocking Probability = 0.1184\n",
      "Total customer = 10000, Blocked customers = 1201, Blocking Probability = 0.1201\n",
      "Total customer = 10000, Blocked customers = 1196, Blocking Probability = 0.1196\n",
      "Mean blocking probability 0.01196 of 10 runs with confidence interval :[-0.015095399666382259, 0.039015399666382254]\n"
     ]
    }
   ],
   "source": [
    "simulate_earling(10,1,1,8,10)"
   ]
  },
  {
   "cell_type": "code",
   "execution_count": null,
   "id": "b42b8c74",
   "metadata": {},
   "outputs": [],
   "source": []
  }
 ],
 "metadata": {
  "kernelspec": {
   "display_name": "Python 3 (ipykernel)",
   "language": "python",
   "name": "python3"
  },
  "language_info": {
   "codemirror_mode": {
    "name": "ipython",
    "version": 3
   },
   "file_extension": ".py",
   "mimetype": "text/x-python",
   "name": "python",
   "nbconvert_exporter": "python",
   "pygments_lexer": "ipython3",
   "version": "3.10.11"
  }
 },
 "nbformat": 4,
 "nbformat_minor": 5
}
