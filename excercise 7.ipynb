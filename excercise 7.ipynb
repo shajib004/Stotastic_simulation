{
 "cells": [
  {
   "cell_type": "markdown",
   "metadata": {},
   "source": [
    "# Excercise 7"
   ]
  },
  {
   "cell_type": "markdown",
   "metadata": {},
   "source": [
    "## Part 1"
   ]
  },
  {
   "cell_type": "markdown",
   "metadata": {},
   "source": [
    "In this excercise we have been asked to apply the stimulated annealing method. WE got a random rermutation of the traveling salesman problem and we have impleneted the code in such a way that it will chenge the permutation in such a way that gradually the cost will be reduced. We have used as a cost function the eucledian distance and we have considered that the nodes are on a circle."
   ]
  },
  {
   "cell_type": "code",
   "execution_count": 3,
   "metadata": {},
   "outputs": [
    {
     "data": {
      "image/png": "[encoded data removed]",
      "text/plain": [
       "<Figure size 432x288 with 1 Axes>"
      ]
     },
     "metadata": {
      "needs_background": "light"
     },
     "output_type": "display_data"
    }
   ],
   "source": [
    "import math\n",
    "from math import floor\n",
    "import numpy as np\n",
    "import matplotlib.pyplot as plt\n",
    "\n",
    "def calculate_coordinates(radius, num_points):\n",
    "    coordinates = []\n",
    "    angle_increment = 2 * math.pi / num_points\n",
    "\n",
    "    for i in range(num_points):\n",
    "        angle = i * angle_increment\n",
    "        x = radius * math.cos(angle)\n",
    "        y = radius * math.sin(angle)\n",
    "        coordinates.append((x, y))\n",
    "\n",
    "    return coordinates\n",
    "\n",
    "# Example usage\n",
    "radius = 5  # Radius of the circle\n",
    "num_points = 8  # Number of points to calculate\n",
    "\n",
    "points = calculate_coordinates(radius, num_points)\n",
    "\n",
    "# Extract x and y coordinates as separate lists\n",
    "x_coords = [point[0] for point in points]\n",
    "y_coords = [point[1] for point in points]\n",
    "\n",
    "# Plot the points\n",
    "plt.scatter(x_coords, y_coords)\n",
    "\n",
    "# Connect the points in your order of choice\n",
    "# order_choice = [5, 17, 3, 10, 19, 12, 1, 8, 15, 6, 16, 7, 14, 9, 2, 11, 18, 4, 13, 0]  # Example order\n",
    "order_choice = [5, 0,1,2,4,7,3,6]\n",
    "\n",
    "for i in range(len(order_choice) - 1):\n",
    "    start_point = order_choice[i]\n",
    "    end_point = order_choice[i + 1]\n",
    "    plt.plot([x_coords[start_point], x_coords[end_point]], [y_coords[start_point], y_coords[end_point]], 'k-')\n",
    "\n",
    "# Connect the last and first points to close the loop\n",
    "start_point = order_choice[-1]\n",
    "end_point = order_choice[0]\n",
    "plt.plot([x_coords[start_point], x_coords[end_point]], [y_coords[start_point], y_coords[end_point]], 'k-')\n",
    "\n",
    "# Add labels to the points\n",
    "for i, point in enumerate(points):\n",
    "    plt.text(point[0], point[1], str(i), ha='center', va='center')\n",
    "\n",
    "# Set aspect ratio and plot title\n",
    "plt.gca().set_aspect('equal', adjustable='box')\n",
    "plt.title(\"Initial Permutation\")\n",
    "\n",
    "# Display the plot\n",
    "plt.show()"
   ]
  },
  {
   "cell_type": "code",
   "execution_count": 4,
   "metadata": {},
   "outputs": [],
   "source": [
    "nodes = list(zip(x_coords,y_coords))"
   ]
  },
  {
   "cell_type": "code",
   "execution_count": 5,
   "metadata": {},
   "outputs": [
    {
     "name": "stdout",
     "output_type": "stream",
     "text": [
      "[(5.0, 0.0), (3.5355339059327378, 3.5355339059327378), (3.061616997868383e-16, 5.0), (-3.5355339059327373, 3.5355339059327378), (-5.0, 6.123233995736766e-16), (-3.5355339059327386, -3.5355339059327373), (-9.184850993605148e-16, -5.0), (3.535533905932737, -3.5355339059327386)]\n"
     ]
    }
   ],
   "source": [
    "print(nodes)"
   ]
  },
  {
   "cell_type": "code",
   "execution_count": 6,
   "metadata": {},
   "outputs": [],
   "source": [
    "def euclidean(a,b):\n",
    "    return ((a[0]-b[0])**2+(a[1]-b[1])**2)**(1/2)\n",
    "\n",
    "def euclidean_cost(points):\n",
    "    cost = 0\n",
    "    for i in range(len(points)-1):\n",
    "        cost += euclidean(points[i],points[i+1])\n",
    "    return cost + euclidean(points[0],points[-1])\n",
    "\n",
    "def translate(path):\n",
    "    result = []\n",
    "    for i in path:\n",
    "        result.append(nodes[i])\n",
    "    return result\n",
    "\n",
    "def permute(old_permutation, element):\n",
    "    permutation = [i for i in old_permutation]\n",
    "    if (element== len(permutation)-1):\n",
    "        temp = permutation[0]\n",
    "        permutation[0]= permutation[element]\n",
    "        permutation[element]= temp\n",
    "    else:\n",
    "        temp = permutation[element+1]\n",
    "        permutation[element+1]= permutation[element]\n",
    "        permutation[element]= temp\n",
    "    return permutation\n",
    "\n",
    "def T(k):\n",
    "    return 1/((i+k)**(1/2))\n",
    "\n",
    "def pr(UXi,UYi,k):\n",
    "    return math.e**(-(UYi-UXi)/T(k))"
   ]
  },
  {
   "cell_type": "code",
   "execution_count": 7,
   "metadata": {},
   "outputs": [
    {
     "data": {
      "text/plain": [
       "1.6273675610590153e-33"
      ]
     },
     "execution_count": 7,
     "metadata": {},
     "output_type": "execute_result"
    }
   ],
   "source": [
    "pr(90,100,50)"
   ]
  },
  {
   "cell_type": "code",
   "execution_count": 8,
   "metadata": {},
   "outputs": [],
   "source": [
    "def stimulated_annealing(initial_permutation,repetitions):\n",
    "    Xi = initial_permutation\n",
    "    for i in range(repetitions):\n",
    "        node = floor(num_points * np.random.uniform(0,1,1)[0])\n",
    "        Yi = permute(Xi,node)\n",
    "        UXi = euclidean_cost(translate(Xi))\n",
    "        UYi = euclidean_cost(translate(Yi))\n",
    "        if (UYi <UXi):\n",
    "            Xi = Yi\n",
    "            continue\n",
    "        if (np.random.uniform(0,1,1)[0]<= pr(UXi,UYi,i)):\n",
    "            Xi = Yi\n",
    "    return Xi\n"
   ]
  },
  {
   "cell_type": "code",
   "execution_count": 11,
   "metadata": {},
   "outputs": [],
   "source": [
    "Xi = stimulated_annealing(order_choice,100000)"
   ]
  },
  {
   "cell_type": "code",
   "execution_count": 12,
   "metadata": {},
   "outputs": [
    {
     "data": {
      "image/png": "[encoded data removed]",
      "text/plain": [
       "<Figure size 432x288 with 1 Axes>"
      ]
     },
     "metadata": {
      "needs_background": "light"
     },
     "output_type": "display_data"
    }
   ],
   "source": [
    "order_choice = Xi  # Example order\n",
    "\n",
    "for i in range(len(order_choice) - 1):\n",
    "    start_point = order_choice[i]\n",
    "    end_point = order_choice[i + 1]\n",
    "    plt.plot([x_coords[start_point], x_coords[end_point]], [y_coords[start_point], y_coords[end_point]], 'k-')\n",
    "\n",
    "# Connect the last and first points to close the loop\n",
    "start_point = order_choice[-1]\n",
    "end_point = order_choice[0]\n",
    "plt.plot([x_coords[start_point], x_coords[end_point]], [y_coords[start_point], y_coords[end_point]], 'k-')\n",
    "\n",
    "# Add labels to the points\n",
    "for i, point in enumerate(points):\n",
    "    plt.text(point[0], point[1], str(i), ha='center', va='center')\n",
    "\n",
    "# Set aspect ratio and plot title\n",
    "plt.gca().set_aspect('equal', adjustable='box')\n",
    "plt.title(\"Equally Spaced Points on a Circle\")\n",
    "\n",
    "# Display the plot\n",
    "plt.show()"
   ]
  },
  {
   "cell_type": "markdown",
   "metadata": {},
   "source": [
    "we have ran multiple times the algorithm but it fails to "
   ]
  },
  {
   "cell_type": "code",
   "execution_count": null,
   "metadata": {},
   "outputs": [],
   "source": []
  }
 ],
 "metadata": {
  "kernelspec": {
   "display_name": "Python 3",
   "language": "python",
   "name": "python3"
  },
  "language_info": {
   "codemirror_mode": {
    "name": "ipython",
    "version": 3
   },
   "file_extension": ".py",
   "mimetype": "text/x-python",
   "name": "python",
   "nbconvert_exporter": "python",
   "pygments_lexer": "ipython3",
   "version": "3.8.5"
  }
 },
 "nbformat": 4,
 "nbformat_minor": 4
}
