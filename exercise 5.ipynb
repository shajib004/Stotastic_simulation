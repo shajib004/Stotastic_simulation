{
 "cells": [
  {
   "cell_type": "markdown",
   "id": "172981a8",
   "metadata": {},
   "source": [
    "Exercise 5: Variance reduction methods Exercise 5: Variance reduction methods\n",
    "\n",
    "1. Estimate the integral   $\\int \\limits _0 ^{1} e^{ x } dx $ by simulation (the crude Monte Carlo\n",
    "estimator). Use eg. an estimator based on 100 samples and present\n",
    "the result as the point estimator and a confidence interval.\n",
    "\n",
    "2. Estimate the integral $\\int \\limits _0 ^{1} e^{ x } dx $ using antithetic variables, with\n",
    "comparable computer ressources.\n",
    "3. Estimate the integral  $\\int \\limits _0 ^{1} e^{ x } dx $ using a control variable, with\n",
    "comparable computer ressources.\n",
    "\n",
    "4. Estimate the integral $\\int \\limits _0 ^{1} e^{ x } dx $ using stratified sampling, with\n",
    "comparable computer ressources.\n",
    "\n",
    "5. Use control variates to reduce the variance of the estimator in\n",
    "exercise 4 (Poisson arrivals).\n",
    "\n",
    "\n",
    "6. Demonstrate the effect of using common random numbers in\n",
    "exercise 4 for the difference between Poisson arrivals (Part 1) and a\n",
    "renewal process with hyperexponential interarrival times. Remark:\n",
    "You might need to do some thinking and some re-programming.\n",
    "\n",
    "\n",
    "7. For a standard normal random variable Z ∼ N(0, 1) using the crude\n",
    "Monte Carlo estimator estimate the probability Z > a. Then try\n",
    "importance sampling with a normal density with mean a and\n",
    "variance σ2. For the expirements start using σ2 = 1, use different\n",
    "values of a (e.g. 2 and 4), and different sample sizes. If time\n",
    "permits experiment with other values for σ2. Finally discuss the\n",
    "efficiency of the methods.\n",
    "\n",
    "8. Use importance sampling with g(x) = λ exp (−λ ∗ x) to calculate\n",
    "the integral $\\int \\limits _0 ^{1} e^{ x } dx $ \n",
    " of Question 1. Try to find the optimal value of\n",
    "λ by calculating the variance of h(X)f(X)/g(X) and verify by\n",
    "simulation. Note that importance sampling with the exponential\n",
    "distribution will not reduce the variance.\n",
    "\n",
    "9. For the Pareto case derive the IS estimator for the mean using the\n",
    "first moment distribution as sampling distribution. Is the approach\n",
    "meaningful? and could this be done in general? With this insight\n",
    "could you change the choice of g(x) in the previous question\n",
    "(Question 8) such that importance sampling would reduce the\n",
    "variance? You do not need to implement this, as long as you can\n",
    "argue, what should happen."
   ]
  },
  {
   "cell_type": "code",
   "execution_count": 16,
   "id": "feb8a2e2",
   "metadata": {},
   "outputs": [],
   "source": [
    "import numpy as np\n",
    "import math\n",
    "from scipy import stats\n",
    "import matplotlib.pyplot as plt\n",
    "import time\n"
   ]
  },
  {
   "cell_type": "code",
   "execution_count": 17,
   "id": "ec43c9e1",
   "metadata": {},
   "outputs": [],
   "source": [
    "U = np.random.uniform(0,1,100)"
   ]
  },
  {
   "cell_type": "markdown",
   "id": "6924d483",
   "metadata": {},
   "source": [
    "# 1"
   ]
  },
  {
   "cell_type": "code",
   "execution_count": 18,
   "id": "e63beefe",
   "metadata": {},
   "outputs": [],
   "source": [
    "def crude_monte_carlo_estimator(u):\n",
    "    n = len(u)\n",
    "    X = np.exp(u)\n",
    "    mean = np.mean(X)\n",
    "    \n",
    "    S_square = (1/(n-1)) * (np.sum(np.multiply(X, X)) - n * mean ** 2)\n",
    "    S = math.sqrt(abs(S_square))\n",
    "    monte_conf_interval = [mean + (S / math.sqrt(n)) * stats.t.ppf(0.025, n-1), mean + (S / math.sqrt(n)) * stats.t.ppf(1-0.025, n-1)]\n",
    "    print('Monte Carlo estimates of Mean: {} with confidence interval {}'.format(mean, monte_conf_interval))\n"
   ]
  },
  {
   "cell_type": "code",
   "execution_count": 19,
   "id": "5b57388d",
   "metadata": {},
   "outputs": [
    {
     "name": "stdout",
     "output_type": "stream",
     "text": [
      "Monte Carlo estimates of Mean: 1.7417975376156634 with confidence interval [1.6374697195943884, 1.8461253556369384]\n"
     ]
    }
   ],
   "source": [
    "crude_monte_carlo_estimator(U)"
   ]
  },
  {
   "cell_type": "markdown",
   "id": "b7e20352",
   "metadata": {},
   "source": [
    "# 2"
   ]
  },
  {
   "cell_type": "code",
   "execution_count": 20,
   "id": "be5fc8f8",
   "metadata": {},
   "outputs": [],
   "source": [
    "def antithetic_variables(u):\n",
    "    n = len(u)\n",
    "    Y = (np.exp(u) + np.e / np.exp(u)) / 2\n",
    "    Ybar = np.mean(Y)\n",
    "\n",
    "    X1 = np.exp(u)\n",
    "    X1bar = np.mean(X1)\n",
    "    X1var = np.var(X1)\n",
    "\n",
    "    u1 = 1 - np.array(u)\n",
    "    X2 = np.exp(u1)\n",
    "    X2bar = np.mean(X2)\n",
    "    X2var = np.var(X2)\n",
    "\n",
    "    Yvar = 0.5 * (X1var + np.e - X1bar * X2bar)\n",
    "    Ybar_conf = 1.96 * math.sqrt(abs(Yvar)) / math.sqrt(n)\n",
    "    ant_conf_interval = [Ybar - Ybar_conf, Ybar + Ybar_conf]\n",
    "    print('Antithetic variables estimates of Mean: {} and confidence interval {}'.format(Ybar, ant_conf_interval))\n"
   ]
  },
  {
   "cell_type": "code",
   "execution_count": 21,
   "id": "c1fac3ca",
   "metadata": {},
   "outputs": [
    {
     "name": "stdout",
     "output_type": "stream",
     "text": [
      "Antithetic variables estimates of Mean: 1.7248081682812069 and confidence interval [1.7065811603962513, 1.7430351761661624]\n"
     ]
    }
   ],
   "source": [
    "antithetic_variables(U) "
   ]
  },
  {
   "cell_type": "markdown",
   "id": "3cb2799d",
   "metadata": {},
   "source": [
    "# 3"
   ]
  },
  {
   "cell_type": "code",
   "execution_count": 38,
   "id": "61889a32",
   "metadata": {},
   "outputs": [],
   "source": [
    "def control_variables(u):\n",
    "    n = len (u)\n",
    "    X = np.exp(u)\n",
    "    Y = u\n",
    "    Yminus_half = []\n",
    "    for x in Y:\n",
    "        Yminus_half.append(x - 0.5)\n",
    "    \n",
    "    XY = np.multiply(X,Y)\n",
    "    Xmean, Xvar = np.mean(X), np.var(X)\n",
    "    Ymean, Yvar = np.mean(Y), np.var(Y)\n",
    "    XYmean, XYvar = np.mean(XY), np.var(XY)\n",
    "    Cov_XY = XYmean - Xmean * Ymean\n",
    "    c = -Cov_XY / Yvar\n",
    "    \n",
    "    Z = X + np.multiply(c,Yminus_half)\n",
    "    Zmean = sum(Z)/n\n",
    "    Zvar = Xvar - (Cov_XY **2/Yvar)\n",
    "    \n",
    "    \n",
    "    Zmean_conf = 1.96 * math.sqrt(Zvar)/math.sqrt(n)\n",
    "    control_conf_interval = [Zvar - Zmean_conf, Zmean + Zmean_conf]\n",
    "    \n",
    "    print('Control variables estimates of Mean: {} with confidence interval {}'.format(Zmean, control_conf_interval))\n",
    "    \n"
   ]
  },
  {
   "cell_type": "code",
   "execution_count": 39,
   "id": "48a4d73b",
   "metadata": {},
   "outputs": [
    {
     "name": "stdout",
     "output_type": "stream",
     "text": [
      "Control variables estimates of Mean: 1.725222919410543 with confidence interval [-0.008499074508624763, 1.7379157971801724]\n"
     ]
    }
   ],
   "source": [
    "control_variables(U)"
   ]
  },
  {
   "cell_type": "markdown",
   "id": "3e475ddd",
   "metadata": {},
   "source": [
    "# 4\n"
   ]
  },
  {
   "cell_type": "code",
   "execution_count": 44,
   "id": "59641d99",
   "metadata": {},
   "outputs": [],
   "source": [
    "def stratified_sampling(u):\n",
    "    N = len(u)\n",
    "    u_reshaped = np.reshape(u, (int(math.sqrt(N)), int(math.sqrt(N))))\n",
    "    w = np.zeros((int(math.sqrt(N)), 1))\n",
    "    for i in range(int(math.sqrt(N))):\n",
    "        for j in range(int(math.sqrt(N))):\n",
    "            w[i] = w[i] + math.exp((u_reshaped[i, j] + (j - 1)) / 10)\n",
    "            w[i] = w[i] / 10\n",
    "            \n",
    "    Wmean, Wvar = np.mean(w), np.var(w)\n",
    "    \n",
    "    Zmean_conf = 1.96 * math.sqrt(Wvar) / math.sqrt(N)\n",
    "    stratified_conf_interval = [Wmean - Zmean_conf, Wmean + Zmean_conf]\n",
    "    \n",
    "    print('Stratified sampling estimates of Mean: {} with confidence interval {}'.format(Wmean, stratified_conf_interval))"
   ]
  },
  {
   "cell_type": "code",
   "execution_count": 45,
   "id": "c7f969c9",
   "metadata": {},
   "outputs": [
    {
     "name": "stdout",
     "output_type": "stream",
     "text": [
      "Stratified sampling estimates of Mean: 0.26165082690696384 with confidence interval [0.2606418602066851, 0.26265979360724256]\n"
     ]
    }
   ],
   "source": [
    "stratified_sampling(U)"
   ]
  },
  {
   "cell_type": "markdown",
   "id": "eba9022c",
   "metadata": {},
   "source": [
    "# 5"
   ]
  },
  {
   "cell_type": "code",
   "execution_count": 90,
   "id": "f104840a",
   "metadata": {},
   "outputs": [],
   "source": [
    "def simulate_poisson(N):\n",
    "    service_mean = 8\n",
    "    service_number = 10\n",
    "    lambd = 1\n",
    "    customer_number = 10000\n",
    "    blocked_probability =[]\n",
    "    for i in range(N):\n",
    "        service_times = np.empty(0,dtype = 'float64')\n",
    "        blocked_customers = 0\n",
    "        time = 0.0\n",
    "        for i in range(customer_number):\n",
    "            interval = np.random.exponential(scale=lambd, size=1)\n",
    "            time += interval\n",
    "            service_times= service_times[service_times >time]\n",
    "        \n",
    "            if (len(service_times)<service_number):\n",
    "                service_interval = np.random.exponential(scale=service_mean)\n",
    "                service_times = np.append(service_times,time+service_interval)\n",
    "            else:\n",
    "                blocked_customers += 1\n",
    "        #blocked_probability = float(blocked_customers/customer_number)\n",
    "        blocked_probability.append(float(blocked_customers/customer_number))\n",
    "        \n",
    "    return blocked_probability\n",
    "\n",
    "    \n"
   ]
  },
  {
   "cell_type": "code",
   "execution_count": 99,
   "id": "6b49df00",
   "metadata": {},
   "outputs": [],
   "source": [
    "def control_variables(u):\n",
    "    n = len(u)\n",
    "    X = np.exp(u)\n",
    "    #print(X)\n",
    "    Y = u\n",
    "    Yminus_half = []\n",
    "    for x in Y:\n",
    "        Yminus_half.append(x - 0.5)\n",
    "    \n",
    "    XY = np.multiply(X,Y)\n",
    "    Xmean, Xvar = np.mean(X), np.var(X)\n",
    "    Ymean, Yvar = np.mean(Y), np.var(Y)\n",
    "    XYmean, XYvar = np.mean(XY), np.var(XY)\n",
    "    Cov_XY = XYmean - Xmean * Ymean\n",
    "    c = -Cov_XY / Yvar\n",
    "    \n",
    "    Z = X + np.multiply(c,Yminus_half)\n",
    "    Zmean = sum(Z)/n\n",
    "    Zvar = Xvar - (Cov_XY **2/Yvar)\n",
    "    \n",
    "    \n",
    "    Zmean_conf = 1.96 * math.sqrt(Zvar)/math.sqrt(n)\n",
    "    control_conf_interval = [Zvar - Zmean_conf, Zmean + Zmean_conf]\n",
    "    print(\"mean poisson blocking probablity: \",np.mean(u))\n",
    "    print('Mean blocking of poisson arrival using Control variables : {} with confidence interval {}'.format(Zmean, control_conf_interval))\n",
    "    \n"
   ]
  },
  {
   "cell_type": "code",
   "execution_count": 100,
   "id": "ddd564ba",
   "metadata": {},
   "outputs": [
    {
     "name": "stdout",
     "output_type": "stream",
     "text": [
      "mean poisson blocking probablity:  0.12086000000000001\n",
      "Mean blocking of poisson arrival using Control variables : 1.556221476986688 with confidence interval [-4.591691362170004e-06, 1.556226068732934]\n"
     ]
    }
   ],
   "source": [
    "control_variables(simulate_poisson(10))"
   ]
  },
  {
   "cell_type": "code",
   "execution_count": null,
   "id": "bf68c52a",
   "metadata": {},
   "outputs": [],
   "source": []
  },
  {
   "cell_type": "code",
   "execution_count": null,
   "id": "063ddee5",
   "metadata": {},
   "outputs": [],
   "source": []
  },
  {
   "cell_type": "code",
   "execution_count": null,
   "id": "0c5dc7d3",
   "metadata": {},
   "outputs": [],
   "source": []
  },
  {
   "cell_type": "code",
   "execution_count": null,
   "id": "757a2a8d",
   "metadata": {},
   "outputs": [],
   "source": []
  }
 ],
 "metadata": {
  "kernelspec": {
   "display_name": "Python 3 (ipykernel)",
   "language": "python",
   "name": "python3"
  },
  "language_info": {
   "codemirror_mode": {
    "name": "ipython",
    "version": 3
   },
   "file_extension": ".py",
   "mimetype": "text/x-python",
   "name": "python",
   "nbconvert_exporter": "python",
   "pygments_lexer": "ipython3",
   "version": "3.10.11"
  }
 },
 "nbformat": 4,
 "nbformat_minor": 5
}
