{
 "cells": [
  {
   "cell_type": "markdown",
   "id": "609216b2",
   "metadata": {},
   "source": [
    "Exercise 8\n",
    "\n",
    "1. Exercise 13 in Chapter 8 of Ross (P.152).\n",
    "\n",
    "2. Exercise 15 in Chapter 8 of Ross (P.152).\n",
    "\n",
    "3. Write a subroutine that takes as input a “data” vector of\n",
    "observed values, and which outputs the median as well as the\n",
    "bootstrap estimate of the variance of the median, based on\n",
    "r = 100 bootstrap replicates. Simulate N = 200 Pareto\n",
    "distributed random variates with β = 1 and k = 1.05.\n",
    "\n",
    "(a) Compute the mean and the median (of the sample)\n",
    "\n",
    "(b) Make the bootstrap estimate of the variance of the sample\n",
    "mean.\n",
    "\n",
    "(c) Make the bootstrap estimate of the variance of the sample\n",
    "median.\n",
    "\n",
    "(d) Compare the precision of the estimated median with the\n",
    "precision of the estimated mean."
   ]
  },
  {
   "cell_type": "markdown",
   "id": "e90f13ce",
   "metadata": {},
   "source": [
    "# 1"
   ]
  },
  {
   "cell_type": "code",
   "execution_count": 12,
   "id": "b6429ae7",
   "metadata": {},
   "outputs": [],
   "source": [
    "import numpy as np\n",
    "import matplotlib.pylab as plt"
   ]
  },
  {
   "cell_type": "code",
   "execution_count": null,
   "id": "423f0eb4",
   "metadata": {},
   "outputs": [],
   "source": [
    "n = 10\n",
    "X = np.array([56, 101, 78, 67, 93, 87, 64, 72, 80, 69])\n",
    "a = -5\n",
    "b = 5\n",
    "r = 100\n",
    "\n",
    "y = np.zeros((r, n))\n",
    "for i in range(r):\n",
    "    y[i, :] = np.random.choice(X, size=n)\n",
    "\n",
    "mu = np.mean(y, axis=1)\n",
    "\n",
    "delta = np.mean(X) - mu\n",
    "\n",
    "result = np.sum((delta > a) & (delta < b)) / r\n",
    "print(result)"
   ]
  },
  {
   "cell_type": "code",
   "execution_count": 3,
   "id": "358fb5c6",
   "metadata": {},
   "outputs": [
    {
     "data": {
      "image/png": "[encoded data removed]",
      "text/plain": [
       "<Figure size 640x480 with 1 Axes>"
      ]
     },
     "metadata": {},
     "output_type": "display_data"
    }
   ],
   "source": [
    "plt.hist(delta)\n",
    "plt.show()"
   ]
  },
  {
   "cell_type": "code",
   "execution_count": 4,
   "id": "ec5ed313",
   "metadata": {},
   "outputs": [
    {
     "name": "stdout",
     "output_type": "stream",
     "text": [
      "36.96892437333335\n"
     ]
    }
   ],
   "source": [
    "import numpy as np\n",
    "\n",
    "n = 15\n",
    "X = np.array([5, 4, 9, 6, 21, 17, 11, 20, 7, 10, 21, 15, 13, 16, 8])\n",
    "r = 100\n",
    "\n",
    "S2 = np.zeros(r)\n",
    "for i in range(r):\n",
    "    y = np.random.choice(X, size=n)\n",
    "    S2[i] = np.var(y)\n",
    "\n",
    "result = np.var(S2)\n",
    "print(result)\n"
   ]
  },
  {
   "cell_type": "code",
   "execution_count": null,
   "id": "7dbbb11b",
   "metadata": {},
   "outputs": [],
   "source": []
  },
  {
   "cell_type": "code",
   "execution_count": 9,
   "id": "6eda2fc3",
   "metadata": {},
   "outputs": [
    {
     "name": "stdout",
     "output_type": "stream",
     "text": [
      "mean: 3.667064669805732, median: 1.9997140169714878\n"
     ]
    }
   ],
   "source": [
    "import numpy as np\n",
    "\n",
    "np.random.seed(3)\n",
    "r = 100\n",
    "N = 200\n",
    "\n",
    "beta = 1\n",
    "k = 1.05\n",
    "\n",
    "U = np.random.rand(N)  # array of random numbers\n",
    "X_Pareto = beta * (U ** (-1 / k))\n",
    "\n",
    "result_mean = np.mean(X_Pareto)\n",
    "result_median = np.median(X_Pareto)\n",
    "print(\"mean: {}, median: {}\".format(result_mean, result_median))\n",
    "\n"
   ]
  },
  {
   "cell_type": "markdown",
   "id": "5b69d1d7",
   "metadata": {},
   "source": [
    "# b"
   ]
  },
  {
   "cell_type": "code",
   "execution_count": 10,
   "id": "a27c4bd9",
   "metadata": {},
   "outputs": [
    {
     "name": "stdout",
     "output_type": "stream",
     "text": [
      "0.11965818779013723\n"
     ]
    }
   ],
   "source": [
    "import numpy as np\n",
    "\n",
    "np.random.seed(3)\n",
    "r = 100\n",
    "N = 200\n",
    "\n",
    "beta = 1\n",
    "k = 1.05\n",
    "\n",
    "U = np.random.rand(N)  # array of random numbers\n",
    "X_Pareto = beta * (U ** (-1 / k))\n",
    "\n",
    "y = np.zeros((r, N))\n",
    "for i in range(r):\n",
    "    y[i, :] = np.random.choice(X_Pareto, size=N)\n",
    "\n",
    "mean_e = np.mean(y, axis=1)\n",
    "result_var = np.var(mean_e)\n",
    "print(result_var)\n"
   ]
  },
  {
   "cell_type": "markdown",
   "id": "531e22c2",
   "metadata": {},
   "source": [
    "# c"
   ]
  },
  {
   "cell_type": "code",
   "execution_count": 11,
   "id": "f8cff90a",
   "metadata": {},
   "outputs": [
    {
     "name": "stdout",
     "output_type": "stream",
     "text": [
      "0.012969108509683443\n"
     ]
    }
   ],
   "source": [
    "import numpy as np\n",
    "\n",
    "np.random.seed(3)\n",
    "r = 100\n",
    "N = 200\n",
    "\n",
    "beta = 1\n",
    "k = 1.05\n",
    "\n",
    "U = np.random.rand(N)  # array of random numbers\n",
    "X_Pareto = beta * (U ** (-1 / k))\n",
    "\n",
    "y = np.zeros((r, N))\n",
    "for i in range(r):\n",
    "    y[i, :] = np.random.choice(X_Pareto, size=N)\n",
    "\n",
    "median_e = np.median(y, axis=1)\n",
    "result_var = np.var(median_e)\n",
    "print(result_var)\n"
   ]
  }
 ],
 "metadata": {
  "kernelspec": {
   "display_name": "Python 3 (ipykernel)",
   "language": "python",
   "name": "python3"
  },
  "language_info": {
   "codemirror_mode": {
    "name": "ipython",
    "version": 3
   },
   "file_extension": ".py",
   "mimetype": "text/x-python",
   "name": "python",
   "nbconvert_exporter": "python",
   "pygments_lexer": "ipython3",
   "version": "3.10.11"
  }
 },
 "nbformat": 4,
 "nbformat_minor": 5
}
